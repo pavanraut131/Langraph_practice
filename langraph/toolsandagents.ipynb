{
 "cells": [
  {
   "cell_type": "code",
   "execution_count": 7,
   "metadata": {},
   "outputs": [
    {
     "data": {
      "text/plain": [
       "True"
      ]
     },
     "execution_count": 7,
     "metadata": {},
     "output_type": "execute_result"
    }
   ],
   "source": [
    "import os \n",
    "from dotenv import load_dotenv\n",
    "load_dotenv()"
   ]
  },
  {
   "cell_type": "code",
   "execution_count": 8,
   "metadata": {},
   "outputs": [],
   "source": [
    "from langchain_google_genai import GoogleGenerativeAIEmbeddings\n",
    "from langchain_google_genai import ChatGoogleGenerativeAI\n",
    "llm = ChatGoogleGenerativeAI(model='gemini-2.0-flash', google_api_key=os.getenv('GEMINI_KEY'))\n",
    "embeddings= GoogleGenerativeAIEmbeddings(model=\"models/embedding-001\", google_api_key=os.getenv('GEMINI_KEY'))"
   ]
  },
  {
   "cell_type": "code",
   "execution_count": 14,
   "metadata": {},
   "outputs": [],
   "source": [
    "from langchain_community.tools.tavily_search import TavilySearchResults\n",
    "from langgraph.prebuilt import create_react_agent\n",
    "\n",
    "system_prompt =\"You are a helpful finance expert named fred in year 2025. First create a plan to get a answer from the research query. Then use the tools to get the answer  to the questions. Finally you use the answeres to each question to give the final verdict  \"\n",
    "tools = [TavilySearchResults(max_results=3)]\n",
    "agent_executor = create_react_agent(llm , tools, state_modifier = system_prompt)"
   ]
  },
  {
   "cell_type": "code",
   "execution_count": 15,
   "metadata": {},
   "outputs": [],
   "source": [
    "import operator\n",
    "from pydantic import BaseModel, Field\n",
    "from typing import Annotated, List, Tuple\n",
    "from typing_extensions import TypedDict\n",
    "\n",
    "class PlanExecute(TypedDict):\n",
    "    input:str\n",
    "    plan:List[str]\n",
    "    past_steps:Annotated[List[Tuple] , operator.add]\n",
    "    response:str\n",
    "\n",
    "class Plan(BaseModel):\n",
    "    \"\"\"Plan need to followed to be in future\"\"\"\n",
    "\n",
    "    steps: List[str]= Field(\n",
    "        description=\"different steps to be followed, should be in sorted order\"\n",
    "    )"
   ]
  },
  {
   "cell_type": "code",
   "execution_count": 16,
   "metadata": {},
   "outputs": [],
   "source": [
    "from langchain.prompts import ChatPromptTemplate\n",
    "\n",
    "planner_prompt = ChatPromptTemplate.from_messages([\n",
    "    (\n",
    "        \"system\", \"\"\"You are finnance research agent working in april 2025.\\\n",
    "            come up answers with simple step by step \"\"\"\n",
    "    ),\n",
    "    (\"placeholder\",\"{messages}\")   \n",
    "])"
   ]
  },
  {
   "cell_type": "code",
   "execution_count": 17,
   "metadata": {},
   "outputs": [
    {
     "data": {
      "text/plain": [
       "Plan(steps=['Research the current state of the EV market (market share, growth rate, and major players).', \"Analyze Tesla's current market position, financial performance, and competitive advantages.\", 'Evaluate potential risks and opportunities for Tesla in the EV market.', 'Provide a recommendation based on the analysis.'])"
      ]
     },
     "execution_count": 17,
     "metadata": {},
     "output_type": "execute_result"
    }
   ],
   "source": [
    "planner = planner_prompt|llm.with_structured_output(Plan)\n",
    "planner.invoke({\"messages\":[\n",
    "    (\"user\", \"Should we invest in Tesla given the current stiuation of EV\")\n",
    "]})"
   ]
  },
  {
   "cell_type": "code",
   "execution_count": 20,
   "metadata": {},
   "outputs": [
    {
     "data": {
      "text/plain": [
       "Act(action=Plan(steps=['Review EV market trends.', 'Check competitor growth.', 'Make investment decision based on analysis.']))"
      ]
     },
     "execution_count": 20,
     "metadata": {},
     "output_type": "execute_result"
    }
   ],
   "source": [
    "from  typing import Union\n",
    "\n",
    "class Resposne(BaseModel):\n",
    "    \"\"\"Resposne To the user \"\"\"\n",
    "    \n",
    "    response:str\n",
    "\n",
    "class Act(BaseModel):\n",
    "    \"\"\"Action to be performed \"\"\"\n",
    "\n",
    "    action: Union[Resposne, Plan] = Field(\n",
    "        description=\"ACtion to perform. Yf you wnat to respond to user, use Resposne.\"\n",
    "        \"If you further want to use tools to get the answer use Plan\"\n",
    "    )\n",
    "\n",
    "\n",
    "replanner_promt=ChatPromptTemplate.from_template(\n",
    "    \"\"\"For the gven objective come up with a structured output in simple step by step\n",
    "     Your object was this :\n",
    "     {input}\n",
    "\n",
    "     Your original plan was this:\n",
    "     {plan}\n",
    "\n",
    "     you have currently done the follow steps:\n",
    "     {past_steps}\n",
    "\n",
    "\n",
    "     Update your plan accordingly \n",
    "    \"\"\"\n",
    ")\n",
    "\n",
    "replaner = replanner_promt|llm.with_structured_output(Act)\n",
    "\n",
    "replaner.invoke({\n",
    "    'input': \"Should we invest in Tesla given the current situation of EV?\",\n",
    "    'plan': \"Step 1: Analyze Tesla’s Q1 earnings. Step 2: Review EV market trends. Step 3: Check competitor growth.\",\n",
    "    'past_steps': \"Completed Step 1: Tesla’s Q1 earnings analyzed.\"\n",
    "})\n"
   ]
  },
  {
   "cell_type": "code",
   "execution_count": null,
   "metadata": {},
   "outputs": [],
   "source": []
  }
 ],
 "metadata": {
  "kernelspec": {
   "display_name": "myenv",
   "language": "python",
   "name": "python3"
  },
  "language_info": {
   "codemirror_mode": {
    "name": "ipython",
    "version": 3
   },
   "file_extension": ".py",
   "mimetype": "text/x-python",
   "name": "python",
   "nbconvert_exporter": "python",
   "pygments_lexer": "ipython3",
   "version": "3.10.12"
  }
 },
 "nbformat": 4,
 "nbformat_minor": 2
}
