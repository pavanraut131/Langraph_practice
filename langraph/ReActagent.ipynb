{
 "cells": [
  {
   "cell_type": "code",
   "execution_count": 1,
   "metadata": {},
   "outputs": [
    {
     "data": {
      "text/plain": [
       "True"
      ]
     },
     "execution_count": 1,
     "metadata": {},
     "output_type": "execute_result"
    }
   ],
   "source": [
    "from dotenv import load_dotenv\n",
    "import os \n",
    "load_dotenv()\n"
   ]
  },
  {
   "cell_type": "code",
   "execution_count": 3,
   "metadata": {},
   "outputs": [
    {
     "data": {
      "text/plain": [
       "'Hi there! How can I help you today?'"
      ]
     },
     "execution_count": 3,
     "metadata": {},
     "output_type": "execute_result"
    }
   ],
   "source": [
    "from langchain_google_genai import ChatGoogleGenerativeAI\n",
    "\n",
    "llm = ChatGoogleGenerativeAI(model='gemini-2.0-flash', google_api_key=os.getenv('GEMINI_KEY'))\n",
    "llm.invoke('hi').content"
   ]
  },
  {
   "cell_type": "code",
   "execution_count": 53,
   "metadata": {},
   "outputs": [],
   "source": [
    "class Chatbot():\n",
    "    def __init__(self, system=\"\"):\n",
    "        self.system = system\n",
    "        self.messages=[]\n",
    "        if self.system:\n",
    "            self.messages.append({\"role\":\"system\",\"content\":system})\n",
    "\n",
    "    def __call__(self,message):\n",
    "        self.messages.append({\"role\":\"user\",\"content\":message})\n",
    "        result = self.execute()\n",
    "        self.messages.append({\"role\":\"assistant\", \"content\":result})\n",
    "        return result\n",
    "    \n",
    "    def execute(self):\n",
    "        llm = ChatGoogleGenerativeAI(model='gemini-2.0-flash', google_api_key=os.getenv('GEMINI_KEY'))\n",
    "        result = llm.invoke(self.messages)\n",
    "        return result.content\n",
    "    "
   ]
  },
  {
   "cell_type": "code",
   "execution_count": 33,
   "metadata": {},
   "outputs": [],
   "source": [
    "bot = Chatbot(system=\"You are a good assistant \")"
   ]
  },
  {
   "cell_type": "code",
   "execution_count": 34,
   "metadata": {},
   "outputs": [
    {
     "data": {
      "text/plain": [
       "\"Google is a multinational technology company that focuses on a wide range of internet-related services and products. These include:\\n\\n*   **Search:** Google Search is the most widely used search engine on the web. It allows users to find information on virtually any topic.\\n*   **Advertising:** Google Ads is a platform that allows businesses to advertise their products and services on Google Search and other websites.\\n*   **Cloud Computing:** Google Cloud provides a suite of cloud computing services, including data storage, computing power, and machine learning tools.\\n*   **Software:** Google develops a variety of software products, including the Android operating system for mobile devices, the Chrome web browser, and the Google Workspace suite of productivity tools (Gmail, Docs, Sheets, Slides, etc.).\\n*   **Hardware:** Google also produces hardware products, such as Pixel smartphones, Nest smart home devices, and Chromebook laptops.\\n*   **Other Ventures:** Google is involved in a variety of other ventures, including artificial intelligence research, autonomous vehicle development (Waymo), and life sciences (Calico).\\n\\nIn short, Google's mission is to organize the world's information and make it universally accessible and useful. It has become one of the most influential and valuable companies in the world.\""
      ]
     },
     "execution_count": 34,
     "metadata": {},
     "output_type": "execute_result"
    }
   ],
   "source": [
    "bot(\"what is google\")"
   ]
  },
  {
   "cell_type": "code",
   "execution_count": 35,
   "metadata": {},
   "outputs": [
    {
     "data": {
      "text/plain": [
       "[{'role': 'system', 'content': 'You are a good assistant '},\n",
       " {'role': 'user', 'content': 'what is google'},\n",
       " {'role': 'assistant',\n",
       "  'content': \"Google is a multinational technology company that focuses on a wide range of internet-related services and products. These include:\\n\\n*   **Search:** Google Search is the most widely used search engine on the web. It allows users to find information on virtually any topic.\\n*   **Advertising:** Google Ads is a platform that allows businesses to advertise their products and services on Google Search and other websites.\\n*   **Cloud Computing:** Google Cloud provides a suite of cloud computing services, including data storage, computing power, and machine learning tools.\\n*   **Software:** Google develops a variety of software products, including the Android operating system for mobile devices, the Chrome web browser, and the Google Workspace suite of productivity tools (Gmail, Docs, Sheets, Slides, etc.).\\n*   **Hardware:** Google also produces hardware products, such as Pixel smartphones, Nest smart home devices, and Chromebook laptops.\\n*   **Other Ventures:** Google is involved in a variety of other ventures, including artificial intelligence research, autonomous vehicle development (Waymo), and life sciences (Calico).\\n\\nIn short, Google's mission is to organize the world's information and make it universally accessible and useful. It has become one of the most influential and valuable companies in the world.\"}]"
      ]
     },
     "execution_count": 35,
     "metadata": {},
     "output_type": "execute_result"
    }
   ],
   "source": [
    "bot.execute()\n",
    "bot.messages\n"
   ]
  },
  {
   "cell_type": "code",
   "execution_count": 36,
   "metadata": {},
   "outputs": [],
   "source": [
    "prompt = \"\"\"\n",
    "You run in a loop of Thought, Action, PAUSE, Observation.\n",
    "At the end of the loop your output an Answer.\n",
    "Use Thought to describe your thoughts about the question you have been asked.\n",
    "Use Action to run one of the actions available to you - then return PAUSE.\n",
    "Observation will be the result of running those actions.\n",
    "\n",
    "\n",
    "Your available actions are:\n",
    "calculate:\n",
    "e.g. calculate: 4 * 7 / 3\n",
    "Runs a calculation and returns the number - uses Python so be sure to use floating point\n",
    "syntax if necessary\n",
    "\n",
    "wikipedia:\n",
    "e.g. wikipedia: Django\n",
    "Returns a summary from searching Wikipedia\n",
    "\n",
    "simon_blog_search:\n",
    "e.g. simon_blog_search: Python\n",
    "Search Simon's blog for that term\n",
    "\n",
    "Example session:\n",
    "Question: What is the capital of France?\n",
    "Thought: I should look up France on Wikipedia\n",
    "Action: wikipedia: France\n",
    "PAUSE\n",
    "\n",
    "You will be called again with this:\n",
    "Observation: France is a country. The capital is Paris.\n",
    "\n",
    "You then output:\n",
    "Answer: The capital of France is Paris\n",
    "\n",
    "Please Note: if you get basic conversation questions like \"hi\",\"hello\",\"how are you?\",\\n\n",
    "you have to answer \"hi\",\"hello\",\"i am good\".\n",
    "\"\"\".strip()"
   ]
  },
  {
   "cell_type": "code",
   "execution_count": 55,
   "metadata": {},
   "outputs": [],
   "source": [
    "import re\n",
    "action_re = re.compile(\"^Action: (\\w+): (.*)\")"
   ]
  },
  {
   "cell_type": "code",
   "execution_count": 56,
   "metadata": {},
   "outputs": [],
   "source": [
    "import httpx\n",
    "def wikipedia(query):\n",
    "    response = httpx.get(\"https://en.wikipedia.org/w/api.php\", params={\n",
    "        \"action\": \"query\",\n",
    "        \"list\": \"search\",\n",
    "        \"srsearch\": query,\n",
    "        \"format\": \"json\"\n",
    "    })\n",
    "    response"
   ]
  },
  {
   "cell_type": "code",
   "execution_count": 94,
   "metadata": {},
   "outputs": [],
   "source": [
    "import httpx\n",
    "def simon_blog_search(query):\n",
    "    response = httpx.get(\"https://datasette.simonwillison.net/simonwillisonblog.json\", params={\n",
    "        \"sql\": \"\"\"\n",
    "        select\n",
    "          blog_entry.title || ': ' || substr(html_strip_tags(blog_entry.body), 0, 1000) as text,\n",
    "          blog_entry.created\n",
    "        from\n",
    "          blog_entry join blog_entry_fts on blog_entry.rowid = blog_entry_fts.rowid\n",
    "        where\n",
    "          blog_entry_fts match escape_fts(:q)\n",
    "        order by\n",
    "          blog_entry_fts.rank\n",
    "        limit\n",
    "          1\n",
    "        \"\"\".strip(),\n",
    "        \"_shape\": \"array\",\n",
    "        \"q\": query,\n",
    "    })\n",
    "    if response.json()==[]:\n",
    "        return \n",
    "    else:\n",
    "      return response.json()[0][\"text\"]"
   ]
  },
  {
   "cell_type": "code",
   "execution_count": 103,
   "metadata": {},
   "outputs": [],
   "source": []
  },
  {
   "cell_type": "code",
   "execution_count": 92,
   "metadata": {},
   "outputs": [],
   "source": [
    "simon_blog_search(\"who is god of cricket \")"
   ]
  },
  {
   "cell_type": "code",
   "execution_count": 58,
   "metadata": {},
   "outputs": [],
   "source": [
    "def calculate(number):\n",
    "    return eval(number)"
   ]
  },
  {
   "cell_type": "code",
   "execution_count": 110,
   "metadata": {},
   "outputs": [],
   "source": [
    "known_actions={\n",
    "    \"wikipedia\":wikipedia,\n",
    "    \"calculate\":calculate,\n",
    "    \"simon_blog_search\":simon_blog_search\n",
    "}"
   ]
  },
  {
   "cell_type": "code",
   "execution_count": 105,
   "metadata": {},
   "outputs": [],
   "source": [
    "def query(question,max_turns=5):\n",
    "    i = 0\n",
    "    bot = Chatbot(prompt)\n",
    "    next_prompt = question\n",
    "    while i < max_turns:\n",
    "        i += 1\n",
    "        result = bot(next_prompt)\n",
    "        print(result)\n",
    "        actions = [action_re.match(a) for a in result.split('\\n') if action_re.match(a)]\n",
    "        if actions:\n",
    "            action, action_input = actions[0].groups()\n",
    "            if action not in known_actions:\n",
    "                raise Exception(f\"Unknown action: {action}: {action_input}\")\n",
    "            print(\" -- running {} {}\".format(action, action_input))\n",
    "            observation = known_actions[action](action_input)\n",
    "            print(\"Observation:\", observation)\n",
    "            next_prompt = f\"Observation: {observation}\"\n",
    "        else:\n",
    "            return result"
   ]
  },
  {
   "cell_type": "code",
   "execution_count": 106,
   "metadata": {},
   "outputs": [],
   "source": [
    "bot = Chatbot(prompt)"
   ]
  },
  {
   "cell_type": "code",
   "execution_count": 99,
   "metadata": {},
   "outputs": [
    {
     "data": {
      "text/plain": [
       "'Thought: I am designed to help users by answering their questions, generating text, and completing other tasks as instructed.\\nAction: PAUSE\\nObservation: I am waiting for your request.\\nAnswer: I am designed to help users by answering their questions, generating text, and completing other tasks as instructed.'"
      ]
     },
     "execution_count": 99,
     "metadata": {},
     "output_type": "execute_result"
    }
   ],
   "source": [
    "bot(\"what is your work\")"
   ]
  },
  {
   "cell_type": "code",
   "execution_count": 62,
   "metadata": {},
   "outputs": [],
   "source": [
    "next_prompt = \"tell me about current gdp of india\"\n",
    "result = bot(next_prompt)"
   ]
  },
  {
   "cell_type": "code",
   "execution_count": 63,
   "metadata": {},
   "outputs": [
    {
     "data": {
      "text/plain": [
       "'Thought: I need to find the current GDP of India. I will use Wikipedia to search for this information.\\nAction: wikipedia: GDP of India\\nPAUSE'"
      ]
     },
     "execution_count": 63,
     "metadata": {},
     "output_type": "execute_result"
    }
   ],
   "source": [
    "result"
   ]
  },
  {
   "cell_type": "code",
   "execution_count": 65,
   "metadata": {},
   "outputs": [],
   "source": [
    "actions = [action_re.match(a) for a in result.split('\\n') if action_re.match(a)]"
   ]
  },
  {
   "cell_type": "code",
   "execution_count": 66,
   "metadata": {},
   "outputs": [
    {
     "data": {
      "text/plain": [
       "[<re.Match object; span=(0, 31), match='Action: wikipedia: GDP of India'>]"
      ]
     },
     "execution_count": 66,
     "metadata": {},
     "output_type": "execute_result"
    }
   ],
   "source": [
    "actions"
   ]
  },
  {
   "cell_type": "code",
   "execution_count": 107,
   "metadata": {},
   "outputs": [
    {
     "name": "stdout",
     "output_type": "stream",
     "text": [
      "Thought: I need to find information about today's IPL match. I can try searching Simon's blog for \"IPL match today\" or \"IPL today\". I'll start with the more general search.\n",
      "Action: simon_blog_search: IPL today\n",
      "PAUSE\n",
      " -- running simon_blog_search IPL today\n",
      "Observation: None\n",
      "Thought: Okay, Simon's blog doesn't seem to have information about today's IPL match. I'll try searching Wikipedia.\n",
      "Action: wikipedia: IPL\n",
      "PAUSE\n",
      " -- running wikipedia IPL\n",
      "Observation: None\n",
      "Thought: Wikipedia didn't turn up any results for just \"IPL\". I should try a more specific search that includes \"IPL\" and \"match\". I will search for \"IPL match\".\n",
      "Action: wikipedia: IPL match\n",
      "PAUSE\n",
      " -- running wikipedia IPL match\n",
      "Observation: None\n",
      "Thought: It seems neither Simon's blog nor Wikipedia has the specific information I need about today's IPL match. I don't have access to live sports scores or schedules. Therefore, I can't answer this question.\n",
      "Answer: I am sorry, I do not have access to real-time sports information and cannot provide details about today's IPL match.\n"
     ]
    },
    {
     "data": {
      "text/plain": [
       "\"Thought: It seems neither Simon's blog nor Wikipedia has the specific information I need about today's IPL match. I don't have access to live sports scores or schedules. Therefore, I can't answer this question.\\nAnswer: I am sorry, I do not have access to real-time sports information and cannot provide details about today's IPL match.\""
      ]
     },
     "execution_count": 107,
     "metadata": {},
     "output_type": "execute_result"
    }
   ],
   "source": [
    "query(\"tell me about todays match in ipl \")"
   ]
  }
 ],
 "metadata": {
  "kernelspec": {
   "display_name": "myenv",
   "language": "python",
   "name": "python3"
  },
  "language_info": {
   "codemirror_mode": {
    "name": "ipython",
    "version": 3
   },
   "file_extension": ".py",
   "mimetype": "text/x-python",
   "name": "python",
   "nbconvert_exporter": "python",
   "pygments_lexer": "ipython3",
   "version": "3.10.12"
  }
 },
 "nbformat": 4,
 "nbformat_minor": 2
}
