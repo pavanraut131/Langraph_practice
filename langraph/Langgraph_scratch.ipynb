{
 "cells": [
  {
   "cell_type": "code",
   "execution_count": 1,
   "metadata": {},
   "outputs": [],
   "source": [
    "def function1(input1):\n",
    "    return input1 +' From the first function'\n",
    "\n",
    "def function2(input2):\n",
    "    return input2 +\"this is from 2nd function\""
   ]
  },
  {
   "cell_type": "code",
   "execution_count": 2,
   "metadata": {},
   "outputs": [],
   "source": [
    "from langgraph.graph import Graph"
   ]
  },
  {
   "cell_type": "code",
   "execution_count": 3,
   "metadata": {},
   "outputs": [],
   "source": [
    "workflow1 = Graph()"
   ]
  },
  {
   "cell_type": "code",
   "execution_count": 4,
   "metadata": {},
   "outputs": [
    {
     "data": {
      "text/plain": [
       "<langgraph.graph.graph.Graph at 0x7225091d7ca0>"
      ]
     },
     "execution_count": 4,
     "metadata": {},
     "output_type": "execute_result"
    }
   ],
   "source": [
    "workflow1.add_node('function1',function1)"
   ]
  },
  {
   "cell_type": "code",
   "execution_count": 5,
   "metadata": {},
   "outputs": [
    {
     "data": {
      "text/plain": [
       "<langgraph.graph.graph.Graph at 0x7225091d7ca0>"
      ]
     },
     "execution_count": 5,
     "metadata": {},
     "output_type": "execute_result"
    }
   ],
   "source": [
    "workflow1.add_node('function2', function2)"
   ]
  },
  {
   "cell_type": "code",
   "execution_count": 6,
   "metadata": {},
   "outputs": [
    {
     "data": {
      "text/plain": [
       "<langgraph.graph.graph.Graph at 0x7225091d7ca0>"
      ]
     },
     "execution_count": 6,
     "metadata": {},
     "output_type": "execute_result"
    }
   ],
   "source": [
    "workflow1.add_edge('function1', 'function2')"
   ]
  },
  {
   "cell_type": "code",
   "execution_count": 7,
   "metadata": {},
   "outputs": [
    {
     "data": {
      "text/plain": [
       "<langgraph.graph.graph.Graph at 0x7225091d7ca0>"
      ]
     },
     "execution_count": 7,
     "metadata": {},
     "output_type": "execute_result"
    }
   ],
   "source": [
    "workflow1.set_entry_point('function1')"
   ]
  },
  {
   "cell_type": "code",
   "execution_count": 8,
   "metadata": {},
   "outputs": [
    {
     "data": {
      "text/plain": [
       "<langgraph.graph.graph.Graph at 0x7225091d7ca0>"
      ]
     },
     "execution_count": 8,
     "metadata": {},
     "output_type": "execute_result"
    }
   ],
   "source": [
    "workflow1.set_finish_point('function2')"
   ]
  },
  {
   "cell_type": "code",
   "execution_count": 9,
   "metadata": {},
   "outputs": [],
   "source": [
    "app1 = workflow1.compile()"
   ]
  },
  {
   "cell_type": "code",
   "execution_count": 10,
   "metadata": {},
   "outputs": [
    {
     "data": {
      "image/png": "[encoded data removed]",
      "text/plain": [
       "<IPython.core.display.Image object>"
      ]
     },
     "metadata": {},
     "output_type": "display_data"
    }
   ],
   "source": [
    "from IPython.display import Image, display\n",
    "\n",
    "try:\n",
    "    display(Image(app1.get_graph().draw_mermaid_png()))\n",
    "except Exception as e:\n",
    "    print\n",
    "    (e)"
   ]
  },
  {
   "cell_type": "code",
   "execution_count": 11,
   "metadata": {},
   "outputs": [
    {
     "data": {
      "text/plain": [
       "'hii this i ram From the first functionthis is from 2nd function'"
      ]
     },
     "execution_count": 11,
     "metadata": {},
     "output_type": "execute_result"
    }
   ],
   "source": [
    "app1.invoke(\"hii this is ram\")"
   ]
  },
  {
   "cell_type": "code",
   "execution_count": 12,
   "metadata": {},
   "outputs": [],
   "source": [
    "input = \"hii this is Ram\""
   ]
  },
  {
   "cell_type": "code",
   "execution_count": 13,
   "metadata": {},
   "outputs": [
    {
     "name": "stdout",
     "output_type": "stream",
     "text": [
      "here is the output from function1\n",
      "-------\n",
      "hii this is Ram From the first function\n",
      "\n",
      "\n",
      "here is the output from function2\n",
      "-------\n",
      "hii this is Ram From the first functionthis is from 2nd function\n",
      "\n",
      "\n"
     ]
    }
   ],
   "source": [
    "for output in app1.stream(input):\n",
    "    for key,value in output.items():\n",
    "        print(f'here is the output from {key}')\n",
    "        print('-------')\n",
    "        print(value)\n",
    "        print('\\n')"
   ]
  },
  {
   "cell_type": "code",
   "execution_count": 17,
   "metadata": {},
   "outputs": [
    {
     "data": {
      "text/plain": [
       "True"
      ]
     },
     "execution_count": 17,
     "metadata": {},
     "output_type": "execute_result"
    }
   ],
   "source": [
    "import os \n",
    "from dotenv import load_dotenv\n",
    "load_dotenv()"
   ]
  },
  {
   "cell_type": "code",
   "execution_count": 18,
   "metadata": {},
   "outputs": [],
   "source": [
    "from langchain_google_genai import GoogleGenerativeAIEmbeddings\n",
    "from langchain_google_genai import ChatGoogleGenerativeAI\n",
    "llm = ChatGoogleGenerativeAI(model='gemini-2.0-flash', google_api_key=os.getenv('GEMINI_KEY'))\n",
    "embeddings= GoogleGenerativeAIEmbeddings(model=\"models/embedding-001\", google_api_key=os.getenv('GEMINI_KEY'))"
   ]
  },
  {
   "cell_type": "code",
   "execution_count": 19,
   "metadata": {},
   "outputs": [],
   "source": [
    "def function1(input):\n",
    "    llm = ChatGoogleGenerativeAI(model='gemini-2.0-flash', google_api_key=os.getenv('GEMINI_KEY'))\n",
    "    response= llm.invoke(input).content\n",
    "    return response"
   ]
  },
  {
   "cell_type": "code",
   "execution_count": 20,
   "metadata": {},
   "outputs": [],
   "source": [
    "def function2(input):\n",
    "    upper =input.upper()\n",
    "    return upper"
   ]
  },
  {
   "cell_type": "code",
   "execution_count": 22,
   "metadata": {},
   "outputs": [
    {
     "data": {
      "text/plain": [
       "<langgraph.graph.graph.Graph at 0x7224f4b73370>"
      ]
     },
     "execution_count": 22,
     "metadata": {},
     "output_type": "execute_result"
    }
   ],
   "source": [
    "from langgraph.graph import Graph\n",
    "workflow1 = Graph()\n",
    "workflow1.add_node('llm', function1)\n",
    "workflow1.add_node('upper', function2)\n",
    "workflow1.add_edge('llm', 'upper')"
   ]
  },
  {
   "cell_type": "code",
   "execution_count": 23,
   "metadata": {},
   "outputs": [
    {
     "data": {
      "text/plain": [
       "<langgraph.graph.graph.Graph at 0x7224f4b73370>"
      ]
     },
     "execution_count": 23,
     "metadata": {},
     "output_type": "execute_result"
    }
   ],
   "source": [
    "workflow1.set_entry_point('llm')\n",
    "workflow1.set_finish_point('upper')"
   ]
  },
  {
   "cell_type": "code",
   "execution_count": 24,
   "metadata": {},
   "outputs": [],
   "source": [
    "app2 = workflow1.compile()"
   ]
  },
  {
   "cell_type": "code",
   "execution_count": 25,
   "metadata": {},
   "outputs": [
    {
     "data": {
      "image/png": "[encoded data removed]",
      "text/plain": [
       "<IPython.core.display.Image object>"
      ]
     },
     "metadata": {},
     "output_type": "display_data"
    }
   ],
   "source": [
    "from IPython.display import Image, display\n",
    "\n",
    "try:\n",
    "    display(Image(app2.get_graph().draw_mermaid_png()))\n",
    "except Exception as e:\n",
    "    print\n",
    "    (e)"
   ]
  },
  {
   "cell_type": "code",
   "execution_count": 26,
   "metadata": {},
   "outputs": [
    {
     "data": {
      "text/plain": [
       "'THE CURRENT PRIME MINISTER OF INDIA IS NARENDRA MODI.'"
      ]
     },
     "execution_count": 26,
     "metadata": {},
     "output_type": "execute_result"
    }
   ],
   "source": [
    "app2.invoke(\"who is the current prime Minister of India\")"
   ]
  },
  {
   "cell_type": "code",
   "execution_count": 27,
   "metadata": {},
   "outputs": [
    {
     "data": {
      "text/plain": [
       "\"GENERATIVE AI (GENAI) HAS A WIDE RANGE OF USES ACROSS VARIOUS INDUSTRIES AND APPLICATIONS. HERE'S A BREAKDOWN OF ITS KEY USES:\\n\\n**1. CONTENT CREATION:**\\n\\n*   **TEXT GENERATION:**\\n    *   **WRITING ARTICLES, BLOG POSTS, AND SOCIAL MEDIA CONTENT:** GENAI CAN CREATE ORIGINAL TEXT, REWRITE EXISTING CONTENT, AND GENERATE SUMMARIES.\\n    *   **GENERATING MARKETING COPY:**  IT CAN PRODUCE ENGAGING AD COPY, EMAIL CAMPAIGNS, AND PRODUCT DESCRIPTIONS.\\n    *   **SCRIPTWRITING AND STORYTELLING:**  IT CAN HELP WRITERS BRAINSTORM IDEAS, DEVELOP CHARACTERS, AND WRITE DIALOGUES FOR MOVIES, TV SHOWS, AND VIDEO GAMES.\\n    *   **CREATING CHATBOTS AND VIRTUAL ASSISTANTS:** GENAI POWERS CONVERSATIONAL AI, ENABLING MORE NATURAL AND ENGAGING INTERACTIONS.\\n    *   **CODE GENERATION:**  IT CAN GENERATE CODE SNIPPETS, COMPLETE FUNCTIONS, AND EVEN BUILD ENTIRE APPLICATIONS BASED ON DESCRIPTIONS.\\n*   **IMAGE GENERATION:**\\n    *   **CREATING ARTWORK AND ILLUSTRATIONS:** TOOLS LIKE DALL-E, MIDJOURNEY, AND STABLE DIFFUSION CAN GENERATE IMAGES FROM TEXT PROMPTS.\\n    *   **DESIGNING MARKETING MATERIALS:**  IT CAN CREATE UNIQUE VISUALS FOR ADS, WEBSITES, AND SOCIAL MEDIA.\\n    *   **GENERATING PRODUCT MOCKUPS:**  IT CAN QUICKLY CREATE REALISTIC VISUALS OF PRODUCTS IN DIFFERENT SETTINGS.\\n    *   **CREATING TEXTURES AND ASSETS FOR VIDEO GAMES:**  IT CAN GENERATE DETAILED TEXTURES AND 3D MODELS.\\n*   **AUDIO GENERATION:**\\n    *   **COMPOSING MUSIC:**  GENAI CAN GENERATE ORIGINAL MUSIC IN VARIOUS STYLES.\\n    *   **CREATING SOUND EFFECTS:**  IT CAN PRODUCE REALISTIC AND UNIQUE SOUND EFFECTS FOR GAMES, MOVIES, AND OTHER APPLICATIONS.\\n    *   **VOICE CLONING AND SYNTHESIS:**  IT CAN CREATE REALISTIC SYNTHETIC VOICES FOR VOICEOVERS, AUDIOBOOKS, AND VIRTUAL ASSISTANTS.\\n*   **VIDEO GENERATION:**\\n    *   **CREATING SHORT VIDEOS FROM TEXT PROMPTS:** SOME TOOLS CAN GENERATE SHORT VIDEO CLIPS BASED ON TEXTUAL DESCRIPTIONS.\\n    *   **ANIMATING CHARACTERS AND OBJECTS:**  IT CAN AUTOMATE PARTS OF THE ANIMATION PROCESS.\\n    *   **CREATING VISUAL EFFECTS:**  IT CAN GENERATE SPECIAL EFFECTS FOR MOVIES AND VIDEO GAMES.\\n\\n**2. DESIGN AND DEVELOPMENT:**\\n\\n*   **PRODUCT DESIGN:**\\n    *   **GENERATING DESIGN CONCEPTS:** GENAI CAN EXPLORE DIFFERENT DESIGN OPTIONS BASED ON USER REQUIREMENTS AND CONSTRAINTS.\\n    *   **OPTIMIZING DESIGNS FOR PERFORMANCE AND MANUFACTURABILITY:**  IT CAN ANALYZE DESIGNS AND SUGGEST IMPROVEMENTS.\\n*   **DRUG DISCOVERY AND DEVELOPMENT:**\\n    *   **IDENTIFYING POTENTIAL DRUG CANDIDATES:** GENAI CAN ANALYZE VAST AMOUNTS OF BIOLOGICAL DATA TO IDENTIFY PROMISING MOLECULES.\\n    *   **PREDICTING DRUG EFFICACY AND TOXICITY:**  IT CAN SIMULATE THE EFFECTS OF DRUGS ON THE HUMAN BODY.\\n*   **MATERIALS SCIENCE:**\\n    *   **DESIGNING NEW MATERIALS WITH SPECIFIC PROPERTIES:** GENAI CAN EXPLORE DIFFERENT COMBINATIONS OF ELEMENTS AND COMPOUNDS TO CREATE MATERIALS WITH DESIRED CHARACTERISTICS.\\n\\n**3. DATA AUGMENTATION AND ENHANCEMENT:**\\n\\n*   **GENERATING SYNTHETIC DATA:**  GENAI CAN CREATE REALISTIC SYNTHETIC DATA FOR TRAINING MACHINE LEARNING MODELS, ESPECIALLY WHEN REAL DATA IS SCARCE OR SENSITIVE.\\n*   **UPSCALING IMAGES AND VIDEOS:**  IT CAN IMPROVE THE RESOLUTION AND QUALITY OF EXISTING IMAGES AND VIDEOS.\\n*   **FILLING IN MISSING DATA:**  IT CAN IMPUTE MISSING VALUES IN DATASETS.\\n\\n**4. EDUCATION AND RESEARCH:**\\n\\n*   **PERSONALIZED LEARNING:**  GENAI CAN CREATE CUSTOMIZED LEARNING EXPERIENCES BASED ON INDIVIDUAL STUDENT NEEDS.\\n*   **GENERATING EDUCATIONAL CONTENT:**  IT CAN CREATE QUIZZES, EXERCISES, AND OTHER LEARNING MATERIALS.\\n*   **ASSISTING WITH RESEARCH:**  IT CAN HELP RESEARCHERS ANALYZE DATA, GENERATE HYPOTHESES, AND WRITE REPORTS.\\n\\n**5. ENTERTAINMENT AND GAMING:**\\n\\n*   **CREATING INTERACTIVE NARRATIVES:**  GENAI CAN GENERATE STORYLINES AND DIALOGUES FOR GAMES THAT ADAPT TO PLAYER CHOICES.\\n*   **GENERATING REALISTIC GAME ENVIRONMENTS:**  IT CAN CREATE DETAILED AND IMMERSIVE VIRTUAL WORLDS.\\n*   **CREATING NON-PLAYER CHARACTERS (NPCS) WITH UNIQUE PERSONALITIES AND BEHAVIORS:**  IT CAN MAKE GAMES MORE ENGAGING AND REALISTIC.\\n\\n**6. BUSINESS AND FINANCE:**\\n\\n*   **FRAUD DETECTION:**  GENAI CAN IDENTIFY PATTERNS THAT INDICATE FRAUDULENT TRANSACTIONS.\\n*   **RISK ASSESSMENT:**  IT CAN ASSESS THE RISK ASSOCIATED WITH INVESTMENTS AND LOANS.\\n*   **CUSTOMER SERVICE:**  IT CAN POWER CHATBOTS THAT PROVIDE INSTANT SUPPORT TO CUSTOMERS.\\n*   **PERSONALIZED MARKETING:**  IT CAN CREATE TARGETED MARKETING CAMPAIGNS BASED ON CUSTOMER DATA.\\n*   **PREDICTIVE ANALYTICS:** IT CAN GENERATE FORECASTS FOR SALES, DEMAND, AND OTHER KEY BUSINESS METRICS.\\n\\n**7. HEALTHCARE:**\\n\\n*   **DIAGNOSIS AND TREATMENT PLANNING:**  GENAI CAN ANALYZE MEDICAL IMAGES AND PATIENT DATA TO ASSIST DOCTORS IN MAKING DIAGNOSES AND TREATMENT PLANS.\\n*   **PERSONALIZED MEDICINE:**  IT CAN TAILOR TREATMENTS TO INDIVIDUAL PATIENTS BASED ON THEIR GENETIC MAKEUP AND OTHER FACTORS.\\n*   **DRUG DISCOVERY:**  (SEE ABOVE)\\n\\n**KEY BENEFITS OF USING GENAI:**\\n\\n*   **INCREASED PRODUCTIVITY:**  AUTOMATES REPETITIVE TASKS AND ACCELERATES CONTENT CREATION.\\n*   **COST REDUCTION:**  REDUCES THE NEED FOR HUMAN LABOR AND LOWERS PRODUCTION COSTS.\\n*   **INNOVATION:**  ENABLES THE CREATION OF NEW PRODUCTS, SERVICES, AND EXPERIENCES.\\n*   **PERSONALIZATION:**  ALLOWS FOR THE CREATION OF CUSTOMIZED CONTENT AND EXPERIENCES.\\n*   **IMPROVED DECISION-MAKING:**  PROVIDES INSIGHTS AND PREDICTIONS BASED ON DATA ANALYSIS.\\n\\n**IMPORTANT CONSIDERATIONS:**\\n\\n*   **ETHICAL CONCERNS:** BIAS IN TRAINING DATA CAN LEAD TO BIASED OUTPUTS.  RESPONSIBLE DEVELOPMENT AND DEPLOYMENT ARE CRUCIAL.\\n*   **COPYRIGHT AND OWNERSHIP:**  THE LEGAL STATUS OF CONTENT GENERATED BY AI IS STILL EVOLVING.\\n*   **ACCURACY AND RELIABILITY:**  GENAI CAN SOMETIMES PRODUCE INACCURATE OR NONSENSICAL OUTPUTS.\\n*   **COMPUTATIONAL RESOURCES:**  TRAINING AND RUNNING GENAI MODELS CAN BE COMPUTATIONALLY EXPENSIVE.\\n\\nIN SUMMARY, GENAI IS A POWERFUL TECHNOLOGY WITH THE POTENTIAL TO TRANSFORM MANY INDUSTRIES.  ITS ABILITY TO GENERATE NEW CONTENT, AUTOMATE TASKS, AND PROVIDE INSIGHTS MAKES IT A VALUABLE TOOL FOR BUSINESSES, RESEARCHERS, AND INDIVIDUALS ALIKE. HOWEVER, IT'S IMPORTANT TO BE AWARE OF THE ETHICAL CONSIDERATIONS AND POTENTIAL LIMITATIONS OF THIS TECHNOLOGY.\""
      ]
     },
     "execution_count": 27,
     "metadata": {},
     "output_type": "execute_result"
    }
   ],
   "source": [
    "app2.invoke(\"what is the use of Gen ai\")"
   ]
  },
  {
   "cell_type": "code",
   "execution_count": 28,
   "metadata": {},
   "outputs": [],
   "source": [
    "def tokenCoounter(input):\n",
    "    token = input.split()\n",
    "    token_number = len(token)\n",
    "    return token_number"
   ]
  },
  {
   "cell_type": "code",
   "execution_count": 37,
   "metadata": {},
   "outputs": [],
   "source": [
    "workflow3 = Graph()\n",
    "workflow3.add_node('llm', function1)\n",
    "workflow3.add_node('uper', function2)\n",
    "workflow3.add_node('tokencounter', tokenCoounter)\n",
    "workflow3.add_edge('llm', 'uper')\n",
    "# workflow3.add_edge('uper', 'tokencounter')\n",
    "workflow3.set_entry_point('llm')\n",
    "workflow3.set_finish_point('uper')\n",
    "app3 = workflow3.compile()"
   ]
  },
  {
   "cell_type": "code",
   "execution_count": 38,
   "metadata": {},
   "outputs": [
    {
     "data": {
      "text/plain": [
       "'THE CURRENT CAPTAIN OF THE INDIAN CRICKET TEAM IS **ROHIT SHARMA**.'"
      ]
     },
     "execution_count": 38,
     "metadata": {},
     "output_type": "execute_result"
    }
   ],
   "source": [
    "app3.invoke(\"who is captain of Indian Cricket Team \")"
   ]
  }
 ],
 "metadata": {
  "kernelspec": {
   "display_name": "myenv",
   "language": "python",
   "name": "python3"
  },
  "language_info": {
   "codemirror_mode": {
    "name": "ipython",
    "version": 3
   },
   "file_extension": ".py",
   "mimetype": "text/x-python",
   "name": "python",
   "nbconvert_exporter": "python",
   "pygments_lexer": "ipython3",
   "version": "3.10.12"
  }
 },
 "nbformat": 4,
 "nbformat_minor": 2
}
