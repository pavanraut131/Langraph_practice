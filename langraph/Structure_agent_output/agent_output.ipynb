{
 "cells": [
  {
   "cell_type": "code",
   "execution_count": 161,
   "metadata": {},
   "outputs": [],
   "source": [
    "from langchain_community.tools.tavily_search import TavilySearchResults\n",
    "from langchain_core.tools import tool\n",
    "from pydantic import BaseModel, Field\n",
    "from langgraph.graph import StateGraph, END, MessagesState\n",
    "from langgraph.prebuilt import ToolNode\n",
    "from langchain_core.messages import HumanMessage "
   ]
  },
  {
   "cell_type": "code",
   "execution_count": 162,
   "metadata": {},
   "outputs": [
    {
     "data": {
      "text/plain": [
       "True"
      ]
     },
     "execution_count": 162,
     "metadata": {},
     "output_type": "execute_result"
    }
   ],
   "source": [
    "import os \n",
    "from dotenv import load_dotenv\n",
    "load_dotenv()"
   ]
  },
  {
   "cell_type": "code",
   "execution_count": 163,
   "metadata": {},
   "outputs": [],
   "source": [
    "from langchain_google_genai import ChatGoogleGenerativeAI\n",
    "llm = ChatGoogleGenerativeAI(model='gemini-2.0-flash', google_api_key = os.getenv('GEMINI_KEY'))"
   ]
  },
  {
   "cell_type": "code",
   "execution_count": 164,
   "metadata": {},
   "outputs": [],
   "source": [
    "tavily_tool = TavilySearchResults()"
   ]
  },
  {
   "cell_type": "code",
   "execution_count": 165,
   "metadata": {},
   "outputs": [],
   "source": [
    "@tool\n",
    "def get_city_details(prompt:str)->str:\n",
    "    \"\"\"Should do web search to finf the required details of the city\"\"\"\n",
    "    response = tavily_tool.invoke(prompt)\n",
    "    print(f'this is a tool call and resposne {response}')\n",
    "    return response"
   ]
  },
  {
   "cell_type": "code",
   "execution_count": 166,
   "metadata": {},
   "outputs": [],
   "source": [
    "tools = [get_city_details]"
   ]
  },
  {
   "cell_type": "code",
   "execution_count": 167,
   "metadata": {},
   "outputs": [],
   "source": [
    "model_with_tools=  llm.bind_tools(tools)"
   ]
  },
  {
   "cell_type": "code",
   "execution_count": 168,
   "metadata": {},
   "outputs": [],
   "source": [
    "class CityDetails(BaseModel):\n",
    "    \"\"\"Respond to user with this \"\"\"\n",
    "    state_name:str= Field(description=\"State name of the city\")\n",
    "    state_capital:str = Field(description=\"State captial of the city\")\n",
    "    country_name:str=Field(description=\"Country name of the city\")\n",
    "    country_capital:str=Field(description=\"Country capital of the city\")"
   ]
  },
  {
   "cell_type": "code",
   "execution_count": 169,
   "metadata": {},
   "outputs": [],
   "source": [
    "class AgentState(MessagesState):\n",
    "    #structured resposne from the agent\n",
    "    final_resposne:CityDetails"
   ]
  },
  {
   "cell_type": "code",
   "execution_count": 170,
   "metadata": {},
   "outputs": [],
   "source": [
    "with_structure_output = llm.with_structured_output(CityDetails)"
   ]
  },
  {
   "cell_type": "code",
   "execution_count": 171,
   "metadata": {},
   "outputs": [],
   "source": [
    "def call_model(state:AgentState):\n",
    "    print(f'this is a input from call model {state}')\n",
    "    response = model_with_tools.invoke(state['messages'])\n",
    "    print(f'this is the resposne from callmodel {response}')\n",
    "    return {\"messages\":[response]}"
   ]
  },
  {
   "cell_type": "code",
   "execution_count": 172,
   "metadata": {},
   "outputs": [],
   "source": [
    "def should_continue(state:AgentState):\n",
    "    messages = state['messages']\n",
    "    last_messgaes = messages[-1]\n",
    "   \n",
    "    \n",
    "    if not last_messgaes.tool_calls:\n",
    "        return 'respond'\n",
    "    else:\n",
    "        return 'continue'"
   ]
  },
  {
   "cell_type": "code",
   "execution_count": null,
   "metadata": {},
   "outputs": [],
   "source": []
  },
  {
   "cell_type": "code",
   "execution_count": 173,
   "metadata": {},
   "outputs": [],
   "source": [
    "def respond(state:AgentState):\n",
    "    print(f\"this is a respond call {state}\")\n",
    "    response = with_structure_output.invoke([HumanMessage(content=state['messages'][-1].content)])\n",
    "    print(f'this is the response from resposnd {response}')\n",
    "    return {\"final_resposne\": response}"
   ]
  },
  {
   "cell_type": "code",
   "execution_count": 174,
   "metadata": {},
   "outputs": [],
   "source": [
    "workflow = StateGraph(AgentState)\n",
    "workflow.add_node('llm', call_model)\n",
    "workflow.add_node(\"tools\", ToolNode(tools))\n",
    "workflow.add_node(\"respond\", respond)\n",
    "\n",
    "workflow.set_entry_point('llm')\n",
    "workflow.add_conditional_edges(\n",
    "    \"llm\",\n",
    "\n",
    "    should_continue,\n",
    "    {\n",
    "        'continue':\"tools\",\n",
    "        \"respond\":\"respond\"\n",
    "    }\n",
    ")\n",
    "workflow.add_edge(\"tools\", \"llm\")\n",
    "workflow.add_edge('respond', END)\n",
    "graph =workflow.compile()"
   ]
  },
  {
   "cell_type": "code",
   "execution_count": 175,
   "metadata": {},
   "outputs": [
    {
     "data": {
      "image/png": "[encoded data removed]",
      "text/plain": [
       "<IPython.core.display.Image object>"
      ]
     },
     "metadata": {},
     "output_type": "display_data"
    }
   ],
   "source": [
    "from IPython.display import Image, display\n",
    "# View\n",
    "display(Image(graph.get_graph().draw_mermaid_png()))"
   ]
  },
  {
   "cell_type": "code",
   "execution_count": 179,
   "metadata": {},
   "outputs": [
    {
     "name": "stdout",
     "output_type": "stream",
     "text": [
      "this is a input from call model {'messages': [HumanMessage(content='tell me about mumbai', additional_kwargs={}, response_metadata={}, id='0c76a226-8985-456a-bb74-627487e038e5')]}\n",
      "this is the resposne from callmodel content='' additional_kwargs={'function_call': {'name': 'get_city_details', 'arguments': '{\"prompt\": \"Mumbai city details\"}'}} response_metadata={'prompt_feedback': {'block_reason': 0, 'safety_ratings': []}, 'finish_reason': 'STOP', 'model_name': 'gemini-2.0-flash', 'safety_ratings': []} id='run-5c3eb61e-8a54-4f7e-b2f2-99e9fa632a02-0' tool_calls=[{'name': 'get_city_details', 'args': {'prompt': 'Mumbai city details'}, 'id': '57ecf2e1-7819-4f0f-94ed-d2d77083891f', 'type': 'tool_call'}] usage_metadata={'input_tokens': 24, 'output_tokens': 9, 'total_tokens': 33, 'input_token_details': {'cache_read': 0}}\n",
      "this is a tool call and resposne [{'title': 'Mumbai City district - Wikipedia', 'url': 'https://en.wikipedia.org/wiki/Mumbai_City_district', 'content': 'Mumbai City district is a district of Maharashtra in Konkan Division, India. As a city district, it has no headquarters or subdivisions. It, along with the Mumbai Suburban District, makes up the metropolis of Mumbai. This area is called the \"Island City\" or South Mumbai or Old Mumbai. It extends from Colaba in the south to Mahim and Sion in the north. The city has an area of 157\\xa0km2 (61\\xa0sq\\xa0mi) and a population of 3,085,411.[1] [...] According to the 2011 census Mumbai City district has a population of 3,085,411,[3] roughly equal to the nation of Mongolia[4] or the US state of Iowa.[5] This gives it a ranking of 115th in India (out of a total of 640).[3] The district has a population density of 19,652 inhabitants per square kilometre (50,900/sq\\xa0mi) .[1] Its population growth rate over the decade 2001-2011 was -7.57%.[1] Mumbai City has a sex ratio of 832 females for every 1000 males,[1] and a literacy rate of 89.21%. [...] •\\xa0Municipal Commissioner & Administrator | Bhushan Gagrani(IAS)\\n•MPs | Anil Desai(Mumbai South Central)Arvind Sawant(Mumbai South)\\nArea\\n•\\xa0Total | 71\\xa0km2(27\\xa0sq\\xa0mi)\\nPopulation(2024)\\n•\\xa0Total | 3,304,000\\n•\\xa0Density | 47,000/km2(120,000/sq\\xa0mi)\\nTime zone | UTC+5:30(IST)\\nSex ratio | 840\\nLiteracy | 89.2%\\nWebsite | https://mumbaicity.gov.in/', 'score': 0.780947}, {'title': 'About District | Mumbai City | India', 'url': 'https://mumbaicity.gov.in/about-district/', 'content': 'Mumbai (also known as Bombay, the official name until 1995) is the capital city of the Indian state of Maharashtra. Mumbai lies on the Konkan coast on the', 'score': 0.73914057}, {'title': 'Mumbai | History, Culture & Attractions - Britannica', 'url': 'https://www.britannica.com/place/Mumbai', 'content': 'Located on Maharashtra’s coast, Mumbai is India’s most-populous city, and it is one of the largest and most densely populated urban areas in the world. It was built on a site of ancient settlement, and it took its name from the local goddess Mumba—a form of Parvati, the consort of Shiva, one of the principal deities of Hinduism—whose temple once stood in what is now the southeastern section of the city. It became known as Bombay during the British colonial period, the name possibly an [...] The city of Mumbai occupies a peninsular site on Bombay Island, a landmass originally composed of seven islets lying off the Konkan coast of western India. Since the 17th century the islets have been joined through drainage and reclamation projects, as well as through the construction of causeways and breakwaters, to form Bombay Island. East of the island are the sheltered waters of Mumbai (Bombay) Harbor. Bombay Island consists of a low-lying plain, about one-fourth of which lies below sea [...] Where is Mumbai?\\nMumbai is the capital city of Maharashtra state in southwestern India. It is the country’s financial and commercial center and its principal port on the Arabian Sea.\\n\\nWhen did Bombay restore its name to Mumbai?\\nBombay restored its name to Mumbai officially in 1995. It became known as Bombay during the British colonial period. The name Bombay was possibly an Anglicized corruption of Mumbai or perhaps of Bom Baim (“Good Harbour”), supposedly a Portuguese name for the locale.', 'score': 0.7140107}, {'title': '20 Interesting Facts About Mumbai, India', 'url': 'https://magicalmumbaitours.com/11-interesting-facts-about-mumbai-india/?srsltid=AfmBOopAUoIENfBQdIsfSdeyn9Uia_Xv1zuTYHexNH7zcifLvrs6x6Bq', 'content': 'Mumbai is the capital of the Indian state of Maharashtra. Until 1955, the official name was Bombay. The name came from the Portuguese writer Gaspar Correia, who called the place “Bom Baim, ” meaning “good little bay.” The Government of India officially changed the English name to Mumbai in November 1995. The name Mumbai is derived from the local deity, Mumba Devi. Let’s discover 20 fun facts about Mumbai that showcase the city’s diverse attractions and distinct personality. [...] 20 Fascinating Facts About Mumbai That Will Surprise You\\n\\nMumbai, the ‘City of Dreams,’ is a modern metropolis that blends modernity, culture, and history. The secret treasures and lesser-known facts about Mumbai that give the city a distinct personality are just as captivating as the city’s crowded streets and well-known landmarks. [...] Mumbai is a well-connected city in India and holds a significant position globally. As one of the fascinating Mumbai facts, its status as an Alpha World City highlights its importance in connecting India to the rest of the world. . It is a primary link for international trade, finance, and cultural exchange. With its bustling ports, major financial institutions, and vibrant cultural scene, Mumbai is vital in connecting India to the world. This dynamic metropolis continues to strengthen its', 'score': 0.6991933}, {'title': 'Mumbai City - Department of Tourism Maharashtra', 'url': 'https://maharashtratourism.gov.in/districts/mumbai-city/', 'content': 'Mumbai is the economic, cultural, and historical heart of India. With its beaches, historical landmarks, vibrant lifestyle, and endless opportunities', 'score': 0.64880073}]\n",
      "this is a input from call model {'messages': [HumanMessage(content='tell me about mumbai', additional_kwargs={}, response_metadata={}, id='0c76a226-8985-456a-bb74-627487e038e5'), AIMessage(content='', additional_kwargs={'function_call': {'name': 'get_city_details', 'arguments': '{\"prompt\": \"Mumbai city details\"}'}}, response_metadata={'prompt_feedback': {'block_reason': 0, 'safety_ratings': []}, 'finish_reason': 'STOP', 'model_name': 'gemini-2.0-flash', 'safety_ratings': []}, id='run-5c3eb61e-8a54-4f7e-b2f2-99e9fa632a02-0', tool_calls=[{'name': 'get_city_details', 'args': {'prompt': 'Mumbai city details'}, 'id': '57ecf2e1-7819-4f0f-94ed-d2d77083891f', 'type': 'tool_call'}], usage_metadata={'input_tokens': 24, 'output_tokens': 9, 'total_tokens': 33, 'input_token_details': {'cache_read': 0}}), ToolMessage(content='[{\"title\": \"Mumbai City district - Wikipedia\", \"url\": \"https://en.wikipedia.org/wiki/Mumbai_City_district\", \"content\": \"Mumbai City district is a district of Maharashtra in Konkan Division, India. As a city district, it has no headquarters or subdivisions. It, along with the Mumbai Suburban District, makes up the metropolis of Mumbai. This area is called the \\\\\"Island City\\\\\" or South Mumbai or Old Mumbai. It extends from Colaba in the south to Mahim and Sion in the north. The city has an area of 157\\xa0km2 (61\\xa0sq\\xa0mi) and a population of 3,085,411.[1] [...] According to the 2011 census Mumbai City district has a population of 3,085,411,[3] roughly equal to the nation of Mongolia[4] or the US state of Iowa.[5] This gives it a ranking of 115th in India (out of a total of 640).[3] The district has a population density of 19,652 inhabitants per square kilometre (50,900/sq\\xa0mi) .[1] Its population growth rate over the decade 2001-2011 was -7.57%.[1] Mumbai City has a sex ratio of 832 females for every 1000 males,[1] and a literacy rate of 89.21%. [...] •\\xa0Municipal Commissioner & Administrator | Bhushan Gagrani(IAS)\\\\n•MPs | Anil Desai(Mumbai South Central)Arvind Sawant(Mumbai South)\\\\nArea\\\\n•\\xa0Total | 71\\xa0km2(27\\xa0sq\\xa0mi)\\\\nPopulation(2024)\\\\n•\\xa0Total | 3,304,000\\\\n•\\xa0Density | 47,000/km2(120,000/sq\\xa0mi)\\\\nTime zone | UTC+5:30(IST)\\\\nSex ratio | 840\\\\nLiteracy | 89.2%\\\\nWebsite | https://mumbaicity.gov.in/\", \"score\": 0.780947}, {\"title\": \"About District | Mumbai City | India\", \"url\": \"https://mumbaicity.gov.in/about-district/\", \"content\": \"Mumbai (also known as Bombay, the official name until 1995) is the capital city of the Indian state of Maharashtra. Mumbai lies on the Konkan coast on the\", \"score\": 0.73914057}, {\"title\": \"Mumbai | History, Culture & Attractions - Britannica\", \"url\": \"https://www.britannica.com/place/Mumbai\", \"content\": \"Located on Maharashtra’s coast, Mumbai is India’s most-populous city, and it is one of the largest and most densely populated urban areas in the world. It was built on a site of ancient settlement, and it took its name from the local goddess Mumba—a form of Parvati, the consort of Shiva, one of the principal deities of Hinduism—whose temple once stood in what is now the southeastern section of the city. It became known as Bombay during the British colonial period, the name possibly an [...] The city of Mumbai occupies a peninsular site on Bombay Island, a landmass originally composed of seven islets lying off the Konkan coast of western India. Since the 17th century the islets have been joined through drainage and reclamation projects, as well as through the construction of causeways and breakwaters, to form Bombay Island. East of the island are the sheltered waters of Mumbai (Bombay) Harbor. Bombay Island consists of a low-lying plain, about one-fourth of which lies below sea [...] Where is Mumbai?\\\\nMumbai is the capital city of Maharashtra state in southwestern India. It is the country’s financial and commercial center and its principal port on the Arabian Sea.\\\\n\\\\nWhen did Bombay restore its name to Mumbai?\\\\nBombay restored its name to Mumbai officially in 1995. It became known as Bombay during the British colonial period. The name Bombay was possibly an Anglicized corruption of Mumbai or perhaps of Bom Baim (“Good Harbour”), supposedly a Portuguese name for the locale.\", \"score\": 0.7140107}, {\"title\": \"20 Interesting Facts About Mumbai, India\", \"url\": \"https://magicalmumbaitours.com/11-interesting-facts-about-mumbai-india/?srsltid=AfmBOopAUoIENfBQdIsfSdeyn9Uia_Xv1zuTYHexNH7zcifLvrs6x6Bq\", \"content\": \"Mumbai is the capital of the Indian state of Maharashtra. Until 1955, the official name was Bombay. The name came from the Portuguese writer Gaspar Correia, who called the place “Bom Baim, ” meaning “good little bay.” The Government of India officially changed the English name to Mumbai in November 1995. The name Mumbai is derived from the local deity, Mumba Devi. Let’s discover 20 fun facts about Mumbai that showcase the city’s diverse attractions and distinct personality. [...] 20 Fascinating Facts About Mumbai That Will Surprise You\\\\n\\\\nMumbai, the ‘City of Dreams,’ is a modern metropolis that blends modernity, culture, and history. The secret treasures and lesser-known facts about Mumbai that give the city a distinct personality are just as captivating as the city’s crowded streets and well-known landmarks. [...] Mumbai is a well-connected city in India and holds a significant position globally. As one of the fascinating Mumbai facts, its status as an Alpha World City highlights its importance in connecting India to the rest of the world. . It is a primary link for international trade, finance, and cultural exchange. With its bustling ports, major financial institutions, and vibrant cultural scene, Mumbai is vital in connecting India to the world. This dynamic metropolis continues to strengthen its\", \"score\": 0.6991933}, {\"title\": \"Mumbai City - Department of Tourism Maharashtra\", \"url\": \"https://maharashtratourism.gov.in/districts/mumbai-city/\", \"content\": \"Mumbai is the economic, cultural, and historical heart of India. With its beaches, historical landmarks, vibrant lifestyle, and endless opportunities\", \"score\": 0.64880073}]', name='get_city_details', id='3be2f3de-87d4-4229-90d4-a062115cd913', tool_call_id='57ecf2e1-7819-4f0f-94ed-d2d77083891f')]}\n",
      "this is the resposne from callmodel content='Mumbai, also known as Bombay until 1995, is the capital city of Maharashtra, India. It\\'s a large and densely populated urban area built on what was originally a group of seven islets. These islets have been joined together through reclamation projects to form Bombay Island. The city is a major economic, cultural, and historical center of India, serving as the country\\'s financial and commercial hub and its principal port on the Arabian Sea. Mumbai is called the \"City of Dreams\" and is known for its diverse attractions, vibrant lifestyle, and historical landmarks.' additional_kwargs={} response_metadata={'prompt_feedback': {'block_reason': 0, 'safety_ratings': []}, 'finish_reason': 'STOP', 'model_name': 'gemini-2.0-flash', 'safety_ratings': []} id='run-6529c63e-6106-48df-8886-f87ecc221a2d-0' usage_metadata={'input_tokens': 1294, 'output_tokens': 116, 'total_tokens': 1410, 'input_token_details': {'cache_read': 0}}\n",
      "this is a respond call {'messages': [HumanMessage(content='tell me about mumbai', additional_kwargs={}, response_metadata={}, id='0c76a226-8985-456a-bb74-627487e038e5'), AIMessage(content='', additional_kwargs={'function_call': {'name': 'get_city_details', 'arguments': '{\"prompt\": \"Mumbai city details\"}'}}, response_metadata={'prompt_feedback': {'block_reason': 0, 'safety_ratings': []}, 'finish_reason': 'STOP', 'model_name': 'gemini-2.0-flash', 'safety_ratings': []}, id='run-5c3eb61e-8a54-4f7e-b2f2-99e9fa632a02-0', tool_calls=[{'name': 'get_city_details', 'args': {'prompt': 'Mumbai city details'}, 'id': '57ecf2e1-7819-4f0f-94ed-d2d77083891f', 'type': 'tool_call'}], usage_metadata={'input_tokens': 24, 'output_tokens': 9, 'total_tokens': 33, 'input_token_details': {'cache_read': 0}}), ToolMessage(content='[{\"title\": \"Mumbai City district - Wikipedia\", \"url\": \"https://en.wikipedia.org/wiki/Mumbai_City_district\", \"content\": \"Mumbai City district is a district of Maharashtra in Konkan Division, India. As a city district, it has no headquarters or subdivisions. It, along with the Mumbai Suburban District, makes up the metropolis of Mumbai. This area is called the \\\\\"Island City\\\\\" or South Mumbai or Old Mumbai. It extends from Colaba in the south to Mahim and Sion in the north. The city has an area of 157\\xa0km2 (61\\xa0sq\\xa0mi) and a population of 3,085,411.[1] [...] According to the 2011 census Mumbai City district has a population of 3,085,411,[3] roughly equal to the nation of Mongolia[4] or the US state of Iowa.[5] This gives it a ranking of 115th in India (out of a total of 640).[3] The district has a population density of 19,652 inhabitants per square kilometre (50,900/sq\\xa0mi) .[1] Its population growth rate over the decade 2001-2011 was -7.57%.[1] Mumbai City has a sex ratio of 832 females for every 1000 males,[1] and a literacy rate of 89.21%. [...] •\\xa0Municipal Commissioner & Administrator | Bhushan Gagrani(IAS)\\\\n•MPs | Anil Desai(Mumbai South Central)Arvind Sawant(Mumbai South)\\\\nArea\\\\n•\\xa0Total | 71\\xa0km2(27\\xa0sq\\xa0mi)\\\\nPopulation(2024)\\\\n•\\xa0Total | 3,304,000\\\\n•\\xa0Density | 47,000/km2(120,000/sq\\xa0mi)\\\\nTime zone | UTC+5:30(IST)\\\\nSex ratio | 840\\\\nLiteracy | 89.2%\\\\nWebsite | https://mumbaicity.gov.in/\", \"score\": 0.780947}, {\"title\": \"About District | Mumbai City | India\", \"url\": \"https://mumbaicity.gov.in/about-district/\", \"content\": \"Mumbai (also known as Bombay, the official name until 1995) is the capital city of the Indian state of Maharashtra. Mumbai lies on the Konkan coast on the\", \"score\": 0.73914057}, {\"title\": \"Mumbai | History, Culture & Attractions - Britannica\", \"url\": \"https://www.britannica.com/place/Mumbai\", \"content\": \"Located on Maharashtra’s coast, Mumbai is India’s most-populous city, and it is one of the largest and most densely populated urban areas in the world. It was built on a site of ancient settlement, and it took its name from the local goddess Mumba—a form of Parvati, the consort of Shiva, one of the principal deities of Hinduism—whose temple once stood in what is now the southeastern section of the city. It became known as Bombay during the British colonial period, the name possibly an [...] The city of Mumbai occupies a peninsular site on Bombay Island, a landmass originally composed of seven islets lying off the Konkan coast of western India. Since the 17th century the islets have been joined through drainage and reclamation projects, as well as through the construction of causeways and breakwaters, to form Bombay Island. East of the island are the sheltered waters of Mumbai (Bombay) Harbor. Bombay Island consists of a low-lying plain, about one-fourth of which lies below sea [...] Where is Mumbai?\\\\nMumbai is the capital city of Maharashtra state in southwestern India. It is the country’s financial and commercial center and its principal port on the Arabian Sea.\\\\n\\\\nWhen did Bombay restore its name to Mumbai?\\\\nBombay restored its name to Mumbai officially in 1995. It became known as Bombay during the British colonial period. The name Bombay was possibly an Anglicized corruption of Mumbai or perhaps of Bom Baim (“Good Harbour”), supposedly a Portuguese name for the locale.\", \"score\": 0.7140107}, {\"title\": \"20 Interesting Facts About Mumbai, India\", \"url\": \"https://magicalmumbaitours.com/11-interesting-facts-about-mumbai-india/?srsltid=AfmBOopAUoIENfBQdIsfSdeyn9Uia_Xv1zuTYHexNH7zcifLvrs6x6Bq\", \"content\": \"Mumbai is the capital of the Indian state of Maharashtra. Until 1955, the official name was Bombay. The name came from the Portuguese writer Gaspar Correia, who called the place “Bom Baim, ” meaning “good little bay.” The Government of India officially changed the English name to Mumbai in November 1995. The name Mumbai is derived from the local deity, Mumba Devi. Let’s discover 20 fun facts about Mumbai that showcase the city’s diverse attractions and distinct personality. [...] 20 Fascinating Facts About Mumbai That Will Surprise You\\\\n\\\\nMumbai, the ‘City of Dreams,’ is a modern metropolis that blends modernity, culture, and history. The secret treasures and lesser-known facts about Mumbai that give the city a distinct personality are just as captivating as the city’s crowded streets and well-known landmarks. [...] Mumbai is a well-connected city in India and holds a significant position globally. As one of the fascinating Mumbai facts, its status as an Alpha World City highlights its importance in connecting India to the rest of the world. . It is a primary link for international trade, finance, and cultural exchange. With its bustling ports, major financial institutions, and vibrant cultural scene, Mumbai is vital in connecting India to the world. This dynamic metropolis continues to strengthen its\", \"score\": 0.6991933}, {\"title\": \"Mumbai City - Department of Tourism Maharashtra\", \"url\": \"https://maharashtratourism.gov.in/districts/mumbai-city/\", \"content\": \"Mumbai is the economic, cultural, and historical heart of India. With its beaches, historical landmarks, vibrant lifestyle, and endless opportunities\", \"score\": 0.64880073}]', name='get_city_details', id='3be2f3de-87d4-4229-90d4-a062115cd913', tool_call_id='57ecf2e1-7819-4f0f-94ed-d2d77083891f'), AIMessage(content='Mumbai, also known as Bombay until 1995, is the capital city of Maharashtra, India. It\\'s a large and densely populated urban area built on what was originally a group of seven islets. These islets have been joined together through reclamation projects to form Bombay Island. The city is a major economic, cultural, and historical center of India, serving as the country\\'s financial and commercial hub and its principal port on the Arabian Sea. Mumbai is called the \"City of Dreams\" and is known for its diverse attractions, vibrant lifestyle, and historical landmarks.', additional_kwargs={}, response_metadata={'prompt_feedback': {'block_reason': 0, 'safety_ratings': []}, 'finish_reason': 'STOP', 'model_name': 'gemini-2.0-flash', 'safety_ratings': []}, id='run-6529c63e-6106-48df-8886-f87ecc221a2d-0', usage_metadata={'input_tokens': 1294, 'output_tokens': 116, 'total_tokens': 1410, 'input_token_details': {'cache_read': 0}})]}\n",
      "this is the response from resposnd state_name='Maharashtra' state_capital='Mumbai' country_name='India' country_capital='New Delhi'\n"
     ]
    }
   ],
   "source": [
    "answer = graph.invoke(input={\"messages\": [(\"human\", \"tell me about mumbai\")]})[\"final_resposne\"]\n",
    "\n"
   ]
  },
  {
   "cell_type": "code",
   "execution_count": 177,
   "metadata": {},
   "outputs": [
    {
     "data": {
      "text/plain": [
       "CityDetails(state_name='Maharashtra', state_capital='Mumbai', country_name='India', country_capital='New Delhi')"
      ]
     },
     "execution_count": 177,
     "metadata": {},
     "output_type": "execute_result"
    }
   ],
   "source": [
    "answer\n"
   ]
  }
 ],
 "metadata": {
  "kernelspec": {
   "display_name": "myenv",
   "language": "python",
   "name": "python3"
  },
  "language_info": {
   "codemirror_mode": {
    "name": "ipython",
    "version": 3
   },
   "file_extension": ".py",
   "mimetype": "text/x-python",
   "name": "python",
   "nbconvert_exporter": "python",
   "pygments_lexer": "ipython3",
   "version": "3.10.12"
  }
 },
 "nbformat": 4,
 "nbformat_minor": 2
}
