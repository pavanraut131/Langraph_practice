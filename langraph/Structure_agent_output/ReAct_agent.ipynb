{
 "cells": [
  {
   "cell_type": "code",
   "execution_count": 1,
   "metadata": {},
   "outputs": [
    {
     "data": {
      "text/plain": [
       "True"
      ]
     },
     "execution_count": 1,
     "metadata": {},
     "output_type": "execute_result"
    }
   ],
   "source": [
    "import os \n",
    "from dotenv import load_dotenv\n",
    "load_dotenv()"
   ]
  },
  {
   "cell_type": "code",
   "execution_count": 5,
   "metadata": {},
   "outputs": [],
   "source": [
    "from langchain_google_genai import ChatGoogleGenerativeAI\n",
    "llm = ChatGoogleGenerativeAI(model='gemini-2.0-flash', google_api_key = os.getenv('GEMINI_KEY'))\n",
    "\n"
   ]
  },
  {
   "cell_type": "code",
   "execution_count": 7,
   "metadata": {},
   "outputs": [],
   "source": [
    "from langgraph.graph import StateGraph, MessagesState, START, END\n",
    "from langchain_core.messages import HumanMessage, SystemMessage\n",
    "from langchain_community.tools import DuckDuckGoSearchRun\n",
    "from langgraph.prebuilt import ToolNode, tools_condition\n",
    "from IPython.display import Image, display\n",
    "from typing import Annotated, TypedDict\n",
    "import operator\n",
    "from langchain_core.messages import AnyMessage\n",
    "from langgraph.graph.message import add_messages\n"
   ]
  },
  {
   "cell_type": "code",
   "execution_count": 8,
   "metadata": {},
   "outputs": [],
   "source": [
    "def multiply(a:int, b:int)->int:\n",
    "    \"\"\"\n",
    "    Multiply a and b\n",
    "    Args:\n",
    "        a:first int \n",
    "        b: second int   \n",
    "    \"\"\"\n",
    "    return a*b"
   ]
  },
  {
   "cell_type": "code",
   "execution_count": 13,
   "metadata": {},
   "outputs": [],
   "source": [
    "def addition(a:int, b:int)->int:\n",
    "    \"\"\"\n",
    "    Add a and b\n",
    "    Args:\n",
    "        a:first int \n",
    "        b: second int   \n",
    "    \"\"\"\n",
    "    return a+b"
   ]
  },
  {
   "cell_type": "code",
   "execution_count": 9,
   "metadata": {},
   "outputs": [],
   "source": [
    "def divide(a:int, b:int)->int:\n",
    "    \"\"\"\n",
    "    Divide a and b\n",
    "    Args:\n",
    "        a:first int \n",
    "        b: second int   \n",
    "    \"\"\"\n",
    "    return a/b"
   ]
  },
  {
   "cell_type": "code",
   "execution_count": 11,
   "metadata": {},
   "outputs": [],
   "source": [
    "search = DuckDuckGoSearchRun()"
   ]
  },
  {
   "cell_type": "code",
   "execution_count": 38,
   "metadata": {},
   "outputs": [],
   "source": [
    "import yfinance as yf\n",
    "def get_stock_price(ticker:str)->float:\n",
    "    \"\"\"Get the stock price from yahoo finnance\n",
    "    \n",
    "    Args\n",
    "    ticker:str\n",
    "    \"\"\"\n",
    "    stock = yf.Ticker(ticker)\n",
    "    return stock.info['previousClose']"
   ]
  },
  {
   "cell_type": "code",
   "execution_count": 45,
   "metadata": {},
   "outputs": [
    {
     "data": {
      "text/plain": [
       "188.38"
      ]
     },
     "execution_count": 45,
     "metadata": {},
     "output_type": "execute_result"
    }
   ],
   "source": [
    "get_stock_price(\"AAPL\")"
   ]
  },
  {
   "cell_type": "code",
   "execution_count": 39,
   "metadata": {},
   "outputs": [],
   "source": [
    "tools = [multiply, addition, divide, search, get_stock_price]"
   ]
  },
  {
   "cell_type": "code",
   "execution_count": 40,
   "metadata": {},
   "outputs": [],
   "source": [
    "lllm_with_tools = llm.bind_tools(tools)"
   ]
  },
  {
   "cell_type": "code",
   "execution_count": 16,
   "metadata": {},
   "outputs": [],
   "source": [
    "system_prompt = SystemMessage(content=\"You are a helpful assistant tasked with using search and performing arithmetic on a set of inputs.\")"
   ]
  },
  {
   "cell_type": "code",
   "execution_count": 51,
   "metadata": {},
   "outputs": [],
   "source": [
    "def reasoner(state):\n",
    "    query = state['query']\n",
    "    messages = state['messages']\n",
    "    message = HumanMessage(content=query)\n",
    "    messages.append(message)\n",
    "    return {\"messages\":[lllm_with_tools.invoke([system_prompt]+messages)]}"
   ]
  },
  {
   "cell_type": "code",
   "execution_count": 52,
   "metadata": {},
   "outputs": [],
   "source": [
    "class Graphstate(TypedDict):\n",
    "    \"\"\"State of the Graph\"\"\"\n",
    "    query:str\n",
    "    finance:str\n",
    "    final_ans:str\n",
    "    messages:Annotated[list[AnyMessage], operator.add]\n",
    "\n"
   ]
  },
  {
   "cell_type": "code",
   "execution_count": 53,
   "metadata": {},
   "outputs": [],
   "source": [
    "workflow = StateGraph(Graphstate)\n",
    "workflow.add_node(\"reasoner\", reasoner)\n",
    "workflow.add_node(\"tools\", ToolNode(tools))\n",
    "workflow.add_edge(START, 'reasoner')\n",
    "workflow.add_conditional_edges(\n",
    "    \"reasoner\",\n",
    "\n",
    "    tools_condition\n",
    ")\n",
    "workflow.add_edge('tools', 'reasoner')\n",
    "\n",
    "app= workflow.compile()"
   ]
  },
  {
   "cell_type": "code",
   "execution_count": 81,
   "metadata": {},
   "outputs": [],
   "source": [
    "result = app.invoke({'query':\"give ipl todays match details  \", 'nessages':[]})"
   ]
  },
  {
   "cell_type": "code",
   "execution_count": 82,
   "metadata": {},
   "outputs": [
    {
     "name": "stdout",
     "output_type": "stream",
     "text": [
      "================================\u001b[1m Human Message \u001b[0m=================================\n",
      "\n",
      "give ipl todays match details  \n",
      "==================================\u001b[1m Ai Message \u001b[0m==================================\n",
      "Tool Calls:\n",
      "  duckduckgo_search (bbbc52b3-bff3-4a39-bb47-828419531c7c)\n",
      " Call ID: bbbc52b3-bff3-4a39-bb47-828419531c7c\n",
      "  Args:\n",
      "    query: ipl todays match details\n",
      "=================================\u001b[1m Tool Message \u001b[0m=================================\n",
      "Name: duckduckgo_search\n",
      "\n",
      "Live cricket scores and updates for IPL 2025 and all current top-level cricket matches for men and women - Tests, ODIs, T20s, first-class cricket, List A cricket, and more. Get real-time IPL live scores & cricket match updates on IPL.com! Stay updated with ball-by-ball commentary, instant scorecards, and in-depth analysis for all major cricket tournaments. ... IPL Trending News. ... Entertainers Cricket League 2025 All Teams, Squads, Captains, and Auction Highlights. IPL 2025 Tickets Booking: Online Details ... The IPL 2025 match on April 7, Monday, will be played between Mumbai Indians (MI) and Royal Challengers Bengaluru (RCB) at the Wankhede Stadium. Time and schedule for IPL 2025 match on April 7, Monday LSG will play MI in the 16th match of IPL 2025 at the Ekana Cricket Stadium in Lucknow. Check out key match details, squads and live streaming details. Meanwhile, MI too have looked off-colour. They started the campaign with back-to-back defeats to Chennai Super Kings (CSK) and Gujarat Titans (GT ... You can find details on where to watch today's IPL 2025 match here. IPL 2025, CSK vs DC: MA Chidambaram, Chepauk, Chennai pitch and weather report. Chepauk has long been CSK's fortress. After winning their opener here against Mumbai Indians, the five-time champions will be eager to return to winning ways following their loss to Rajasthan Royals.\n",
      "================================\u001b[1m Human Message \u001b[0m=================================\n",
      "\n",
      "give ipl todays match details  \n",
      "==================================\u001b[1m Ai Message \u001b[0m==================================\n",
      "\n",
      "Today's IPL match on April 7, Monday, will be played between Mumbai Indians (MI) and Royal Challengers Bengaluru (RCB) at the Wankhede Stadium.\n"
     ]
    }
   ],
   "source": [
    "for m in result['messages']:\n",
    "    m.pretty_print()"
   ]
  },
  {
   "cell_type": "code",
   "execution_count": null,
   "metadata": {},
   "outputs": [],
   "source": []
  }
 ],
 "metadata": {
  "kernelspec": {
   "display_name": "myenv",
   "language": "python",
   "name": "python3"
  },
  "language_info": {
   "codemirror_mode": {
    "name": "ipython",
    "version": 3
   },
   "file_extension": ".py",
   "mimetype": "text/x-python",
   "name": "python",
   "nbconvert_exporter": "python",
   "pygments_lexer": "ipython3",
   "version": "3.10.12"
  }
 },
 "nbformat": 4,
 "nbformat_minor": 2
}
