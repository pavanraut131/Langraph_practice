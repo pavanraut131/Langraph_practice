{
 "cells": [
  {
   "cell_type": "code",
   "execution_count": 76,
   "metadata": {},
   "outputs": [
    {
     "data": {
      "text/plain": [
       "True"
      ]
     },
     "execution_count": 76,
     "metadata": {},
     "output_type": "execute_result"
    }
   ],
   "source": [
    "import os \n",
    "from dotenv import load_dotenv\n",
    "load_dotenv()"
   ]
  },
  {
   "cell_type": "code",
   "execution_count": 77,
   "metadata": {},
   "outputs": [],
   "source": [
    "from langchain_google_genai import ChatGoogleGenerativeAI\n",
    "llm = ChatGoogleGenerativeAI(model='gemini-2.0-flash', google_api_key = os.getenv('GEMINI_KEY'))"
   ]
  },
  {
   "cell_type": "code",
   "execution_count": 78,
   "metadata": {},
   "outputs": [],
   "source": [
    "from typing import Annotated, TypedDict, Annotated, Sequence\n",
    "import operator, json\n",
    "from langchain_core.messages import BaseMessage\n",
    "from langgraph.checkpoint.memory import MemorySaver\n",
    "from langgraph.graph import StateGraph, END, START\n",
    "from langgraph.graph.message import add_messages\n",
    "from langgraph.prebuilt import ToolNode, tools_condition\n",
    "from langchain.tools import tool\n",
    "from langchain_community.tools.tavily_search import TavilySearchResults\n"
   ]
  },
  {
   "cell_type": "code",
   "execution_count": 79,
   "metadata": {},
   "outputs": [],
   "source": [
    "@tool\n",
    "def multiply(a:int, b:int)->int:\n",
    "    \"\"\"Multiply the two Integer\"\"\"\n",
    "    return a*b"
   ]
  },
  {
   "cell_type": "code",
   "execution_count": 80,
   "metadata": {},
   "outputs": [],
   "source": [
    "@tool\n",
    "def search(query:str): \n",
    "    \"\"\"Perform the web serach on user query\"\"\"\n",
    "    tavily = TavilySearchResults()\n",
    "    result = tavily.invoke(query)\n",
    "    return result\n"
   ]
  },
  {
   "cell_type": "code",
   "execution_count": 81,
   "metadata": {},
   "outputs": [
    {
     "data": {
      "text/plain": [
       "[{'title': 'President of India - Wikipedia',\n",
       "  'url': 'https://en.wikipedia.org/wiki/President_of_India',\n",
       "  'content': 'The president of India (ISO: Bhārata kē Rāṣṭrapati) is the head of state of the Republic of India. The president is the nominal head of the executive,[a] the first citizen of the country, as well as the supreme commander of the Indian Armed Forces. Droupadi Murmu is the 15th and current president, having taken office from 25 July 2022. [...] Jump to content\\nMain menu\\nSearch\\nDonate\\nCreate account\\nLog in\\nPersonal tools\\nToggle the table of contents\\nPresident of India\\n70 languages\\nArticle\\nTalk\\nRead\\nView source\\nView history\\nTools\\nFrom Wikipedia, the free encyclopedia\\nFor a list of presidents, see List of presidents of India.\\nPresident of India\\nBhārata kē Rāṣṭrapati\\nLogo of The President of India\\nFlag of India\\nIncumbent\\nDroupadi Murmu\\nsince\\xa025 July 2022\\nHead of state of the Republic of India\\nExecutive branch of the Indian Government [...] making India a republic.[6]:\\u200a9\\u200a The offices of monarch and governor-general were replaced by the new office of President of India, with Rajendra Prasad as its first incumbent.[6]:\\u200a1\\u200a India retained its Commonwealth membership per the London Declaration, recognising The King as \"the symbol of the free association of its independent member nations and as such the Head of the Commonwealth.\"[7]',\n",
       "  'score': 0.9197076},\n",
       " {'title': 'About Us - The Office and Residence of the President of India',\n",
       "  'url': 'http://rashtrapatibhavan.gov.in/about-us',\n",
       "  'content': 'The President of India is the head of state of the Republic of India. The President is the nominal head of the executive, the first citizen of the country, as well as the commander-in-chief of the Indian Armed Forces. Smt. Droupadi Murmu is the 15th and current President, having taken office from 25 July 2022.',\n",
       "  'score': 0.89121616},\n",
       " {'title': 'List of all Presidents of India from 1950 to 2024 with tenure',\n",
       "  'url': 'https://www.jagranjosh.com/general-knowledge/list-of-all-presidents-of-india-from1947-to-2017-with-tenure-1500293855-1',\n",
       "  'content': 'How many Presidents are there in India until 2022?\\n+\\nSince 1950, India has had 14 full-time Presidents. The 14th President of India is Shri Ram Nath Kovind.\\n\\n\\nWho is the current President of India?\\n+\\nShrimati Draupadi Murmu is the current President of India.\\n\\n\\nTrending [...] Ram Nath Kovind was born on 1 October 1945 in Uttar Pradesh, India. He is an Indian lawyer and politician. He was the 14th and current President of India. He became the President on 25 July 2017 and is a member of the Bhartiya Janata Party. He is the former Governor of Bihar. His approach towards political problems earned him praise across the political spectrum. As a Governor his achievements were the creation of a judicial commission to investigate corruption in universities. [...] Singh25 July 1982 – 25 July 19878R Venkataraman25 July 1987 – 25 July 19929Shankar Dayal Sharma25 July 1992 – 25 July 199710K R Narayanan25 July 1997 – 25 July 200211APJ Abdul Kalam25 July 2002 – 25 July 200712Pratibha Patil25 July 2007 – 25 July 201213Pranab Mukherjee25 July – 25 July 201714Ram Nath Kovind25 July 2017 – 25 July 202215Draupadi Murmu25 July 2022-Incumbent',\n",
       "  'score': 0.8682137},\n",
       " {'title': 'Droupadi Murmu - Wikipedia',\n",
       "  'url': 'https://en.wikipedia.org/wiki/Droupadi_Murmu',\n",
       "  'content': 'Jump to content\\nMain menu\\nSearch\\nDonate\\nCreate account\\nLog in\\nPersonal tools\\nToggle the table of contents\\nDroupadi Murmu\\n69 languages\\nArticle\\nTalk\\nRead\\nView source\\nView history\\nTools\\nFrom Wikipedia, the free encyclopedia\\nDroupadi Murmu\\nOfficial portrait, 2022\\nPresident of India\\nIncumbent\\nAssumed office\\n25 July 2022\\nPrime Minister  Narendra Modi\\nVice President\\nVenkaiah Naidu\\nJagdeep Dhankhar\\nPreceded by Ram Nath Kovind\\nGovernor of Jharkhand\\nIn office\\n18 May 2015\\xa0– 12 July 2021 [...] Droupadi Murmu (Hindi: [d̪ɾɔːpət̪iː mʊɾmuː], born Durgi Biranchi Tudu, Hindi: [d̪ʊɾɡiː bɪɾəɲtʃiː t̪ʊd̪uː]; born 20 June 1958) is an Indian politician who has been serving as the President of India since 2022. She won the 2022 presidential election as the Bharatiya Janata Party (BJP) candidate.[2] She is the first person belonging to a tribal community and also the second woman, after Pratibha Patil, to hold the office. She is also the youngest person to occupy the post (at 64) and the first [...] Preceded\\xa0by\\nSyed Ahmed\\n    Governor of Jharkhand\\n2015–2021   Succeeded\\xa0by\\nRamesh Bais\\nParty political offices\\nPreceded\\xa0by\\nRam Nath Kovind\\n    National Democratic Alliance nominee for President of India\\n2022    Most recent\\nvte\\n Presidents of India\\nList\\nPresidents',\n",
       "  'score': 0.84183896},\n",
       " {'title': 'President of India - YouTube',\n",
       "  'url': 'https://www.youtube.com/presidentofindia',\n",
       "  'content': \"Subscribe Now: https://goo.gl/XUQgqi Stay Updated! 🔔 President Droupadi Murmu's Address to the Nation on the eve of the 74th Republic Day Follow The President of India: ►Twitter: https://twitter.com/rashtrapatibhvn ►Facebook: https://www.facebook.com/PresidentOfI... ►Instagram: https://www.instagram.com/presidentof... ►Subscribe to channel: https://www.youtube.com/presidentofindia ►Website: http://presidentofindia.nic.in/\\nRead more [...] President Droupadi Murmu administered the Oath of Office to Central Vigilance Commissioner\\nPresident of India\\nPresident of India\\nVerified\\n1.1M views2 years ago\\n 2:56 2:56 Now playing\\n\\nPresident-elect Smt Droupadi Murmu takes oath as the President of India\\nPresident of India\\nPresident of India\\nVerified\\n156K views2 years ago\\n 18:00 18:00 Now playing [...] President Smt Droupadi Murmu's address on her assumption of office as the President of India\\nPresident of India\\nPresident of India\\nVerified\\n673K views2 years ago\\n 2:56 2:56 Now playing\\n\\nPresident-elect Smt Droupadi Murmu takes oath as the President of India\\nPresident of India\\nPresident of India\\nVerified\\n156K views2 years ago\\n 21:52 21:52 Now playing\",\n",
       "  'score': 0.77179235}]"
      ]
     },
     "execution_count": 81,
     "metadata": {},
     "output_type": "execute_result"
    }
   ],
   "source": [
    "search(\"who is the president of India currently \")"
   ]
  },
  {
   "cell_type": "code",
   "execution_count": 82,
   "metadata": {},
   "outputs": [],
   "source": [
    "tools = [search, multiply]"
   ]
  },
  {
   "cell_type": "code",
   "execution_count": 83,
   "metadata": {},
   "outputs": [],
   "source": [
    "model_with_tools  = llm.bind_tools(tools)"
   ]
  },
  {
   "cell_type": "code",
   "execution_count": 92,
   "metadata": {},
   "outputs": [],
   "source": [
    "tool_mapping = {tool.name:tool for tool in tools}"
   ]
  },
  {
   "cell_type": "code",
   "execution_count": 93,
   "metadata": {},
   "outputs": [
    {
     "data": {
      "text/plain": [
       "{'search': StructuredTool(name='search', description='Perform the web serach on user query', args_schema=<class 'langchain_core.utils.pydantic.search'>, func=<function search at 0x7558e4b79360>),\n",
       " 'multiply': StructuredTool(name='multiply', description='Multiply the two Integer', args_schema=<class 'langchain_core.utils.pydantic.multiply'>, func=<function multiply at 0x7558e4b79120>)}"
      ]
     },
     "execution_count": 93,
     "metadata": {},
     "output_type": "execute_result"
    }
   ],
   "source": [
    "tool_mapping"
   ]
  },
  {
   "cell_type": "code",
   "execution_count": 95,
   "metadata": {},
   "outputs": [],
   "source": [
    "resposne = model_with_tools.invoke(\"who is the president of India currently \")"
   ]
  },
  {
   "cell_type": "code",
   "execution_count": 96,
   "metadata": {},
   "outputs": [
    {
     "data": {
      "text/plain": [
       "AIMessage(content='', additional_kwargs={'function_call': {'name': 'search', 'arguments': '{\"query\": \"who is the president of India currently\"}'}}, response_metadata={'prompt_feedback': {'block_reason': 0, 'safety_ratings': []}, 'finish_reason': 'STOP', 'model_name': 'gemini-2.0-flash', 'safety_ratings': []}, id='run-9b1200f7-4995-413f-9d5b-628a6a12e794-0', tool_calls=[{'name': 'search', 'args': {'query': 'who is the president of India currently'}, 'id': '9baf4023-0ff5-4834-9e75-7460f1b02327', 'type': 'tool_call'}], usage_metadata={'input_tokens': 28, 'output_tokens': 9, 'total_tokens': 37, 'input_token_details': {'cache_read': 0}})"
      ]
     },
     "execution_count": 96,
     "metadata": {},
     "output_type": "execute_result"
    }
   ],
   "source": [
    "resposne"
   ]
  },
  {
   "cell_type": "code",
   "execution_count": 102,
   "metadata": {},
   "outputs": [
    {
     "name": "stdout",
     "output_type": "stream",
     "text": [
      "{'name': 'search', 'arguments': '{\"query\": \"who is the president of India currently\"}'}\n"
     ]
    }
   ],
   "source": [
    "tool_call = resposne.additional_kwargs.get(\"function_call\")\n",
    "print(tool_call)"
   ]
  },
  {
   "cell_type": "code",
   "execution_count": 84,
   "metadata": {},
   "outputs": [],
   "source": [
    "class AgentState(TypedDict):\n",
    "    messages:Annotated[Sequence[BaseMessage], operator.add]"
   ]
  },
  {
   "cell_type": "code",
   "execution_count": 85,
   "metadata": {},
   "outputs": [],
   "source": [
    "def invoke_model(state:AgentState):\n",
    "    messages = state['messages']\n",
    "    question = messages[-1]\n",
    "    return {\"messages\":[model_with_tools.invoke(question)]}"
   ]
  },
  {
   "cell_type": "code",
   "execution_count": 94,
   "metadata": {},
   "outputs": [],
   "source": [
    "def invoke_tool(state:AgentState):\n",
    "    tool_details = state['messages'][-1].additional_kwargs.get('tool_calls', [])[0]\n",
    "\n",
    "    if tool_details is None:\n",
    "        raise Exception(\"no tool call found\")\n",
    "    print(f\"selected_tool: {tool_details.get('function').get('name')}\")\n",
    "\n",
    "    if tool_details.get('function').get(\"name\")=='search':\n",
    "        resposne = input(prompt=f\"[y/n] continue with expansive search\")\n",
    "        if resposne == 'n':\n",
    "            raise Exception(\"web serach discard\")\n",
    "    resposne = tool_mapping[tool_details['function'][\"name\"].invoke(json.loads(tool_details.get('function').get(\"arguments\")))]\n",
    "    return {'messages':[resposne]}"
   ]
  },
  {
   "cell_type": "code",
   "execution_count": 87,
   "metadata": {},
   "outputs": [],
   "source": [
    "def router(state):\n",
    "    tool_call=state['messages'][-1].additional_kwargs.get('tool_calls', [])\n",
    "    print(tool_call)\n",
    "    if len(tool_call):\n",
    "        return \"tool\"\n",
    "    else:\n",
    "        return \"end\""
   ]
  },
  {
   "cell_type": "code",
   "execution_count": 88,
   "metadata": {},
   "outputs": [
    {
     "data": {
      "text/plain": [
       "<langgraph.graph.state.StateGraph at 0x7558f01d2ec0>"
      ]
     },
     "execution_count": 88,
     "metadata": {},
     "output_type": "execute_result"
    }
   ],
   "source": [
    "workflow = StateGraph(AgentState)\n",
    "workflow.add_node(\"ai_assistant\", invoke_model)\n",
    "workflow.add_node('tool', invoke_tool)\n",
    "\n",
    "workflow.add_conditional_edges(\"ai_assistant\", router, {\"tool\":\"tool\", \"end\":END})\n",
    "workflow.add_edge(\"tool\", END)\n",
    "workflow.set_entry_point('ai_assistant')"
   ]
  },
  {
   "cell_type": "code",
   "execution_count": 89,
   "metadata": {},
   "outputs": [],
   "source": [
    "app = workflow.compile()"
   ]
  },
  {
   "cell_type": "code",
   "execution_count": 90,
   "metadata": {},
   "outputs": [
    {
     "data": {
      "image/png": "[encoded data removed]",
      "text/plain": [
       "<IPython.core.display.Image object>"
      ]
     },
     "metadata": {},
     "output_type": "display_data"
    }
   ],
   "source": [
    "from IPython.display import Image, display\n",
    "# View\n",
    "display(Image(app.get_graph().draw_mermaid_png()))"
   ]
  },
  {
   "cell_type": "code",
   "execution_count": 91,
   "metadata": {},
   "outputs": [
    {
     "name": "stdout",
     "output_type": "stream",
     "text": [
      "[]\n"
     ]
    },
    {
     "data": {
      "text/plain": [
       "{'messages': ['2*2',\n",
       "  AIMessage(content='', additional_kwargs={'function_call': {'name': 'multiply', 'arguments': '{\"a\": 2.0, \"b\": 2.0}'}}, response_metadata={'prompt_feedback': {'block_reason': 0, 'safety_ratings': []}, 'finish_reason': 'STOP', 'model_name': 'gemini-2.0-flash', 'safety_ratings': []}, id='run-6b988894-9be3-49fb-bf5d-0787db5bbc51-0', tool_calls=[{'name': 'multiply', 'args': {'a': 2.0, 'b': 2.0}, 'id': '5156a7b9-d7a1-482a-8bbb-f849b72cac80', 'type': 'tool_call'}], usage_metadata={'input_tokens': 23, 'output_tokens': 3, 'total_tokens': 26, 'input_token_details': {'cache_read': 0}})]}"
      ]
     },
     "execution_count": 91,
     "metadata": {},
     "output_type": "execute_result"
    }
   ],
   "source": [
    "app.invoke({\"messages\":[\"2*2\"]})"
   ]
  }
 ],
 "metadata": {
  "kernelspec": {
   "display_name": "myenv",
   "language": "python",
   "name": "python3"
  },
  "language_info": {
   "codemirror_mode": {
    "name": "ipython",
    "version": 3
   },
   "file_extension": ".py",
   "mimetype": "text/x-python",
   "name": "python",
   "nbconvert_exporter": "python",
   "pygments_lexer": "ipython3",
   "version": "3.10.12"
  }
 },
 "nbformat": 4,
 "nbformat_minor": 2
}
