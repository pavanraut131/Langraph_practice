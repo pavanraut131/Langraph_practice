{
 "cells": [
  {
   "cell_type": "code",
   "execution_count": 13,
   "metadata": {},
   "outputs": [
    {
     "data": {
      "text/plain": [
       "True"
      ]
     },
     "execution_count": 13,
     "metadata": {},
     "output_type": "execute_result"
    }
   ],
   "source": [
    "import os \n",
    "from dotenv import load_dotenv\n",
    "load_dotenv()"
   ]
  },
  {
   "cell_type": "code",
   "execution_count": 8,
   "metadata": {},
   "outputs": [],
   "source": [
    "# from langchain_google_genai import GoogleGenerativeAIEmbeddings\n",
    "# from langchain_google_genai import ChatGoogleGenerativeAI\n",
    "# llm = ChatGoogleGenerativeAI(model='gemini-2.0-flash', google_api_key=os.getenv('GEMINI_KEY'))\n",
    "# embeddings= GoogleGenerativeAIEmbeddings(model=\"models/embedding-001\", google_api_key=os.getenv('GEMINI_KEY'))"
   ]
  },
  {
   "cell_type": "code",
   "execution_count": 14,
   "metadata": {},
   "outputs": [],
   "source": [
    "from langchain_groq import ChatGroq\n",
    "llm = ChatGroq(model='gemma2-9b-it', groq_api_key=os.getenv('GROQ_KEY'))"
   ]
  },
  {
   "cell_type": "code",
   "execution_count": 16,
   "metadata": {},
   "outputs": [
    {
     "name": "stdout",
     "output_type": "stream",
     "text": [
      "Google is a multinational technology company that specializes in internet-related services and products. \n",
      "\n",
      "Here are some of its key aspects:\n",
      "\n",
      "* **Search Engine:** Google's most famous product is its search engine, which helps users find information on the web. It uses complex algorithms to index and rank websites based on relevance to a search query.\n",
      "\n",
      "* **Advertising:** Google generates most of its revenue through advertising. Its advertising platform, Google Ads, allows businesses to display ads on search results pages, websites, and other platforms.\n",
      "* **Cloud Computing:** Google Cloud Platform (GCP) offers a suite of cloud computing services, including data storage, analytics, and machine learning.\n",
      "* **Software and Hardware:** Google develops a range of software products, such as the Android operating system, Gmail, Google Maps, and Google Drive. It also manufactures hardware devices, including Pixel smartphones, Nest smart home devices, and Chromebook laptops.\n",
      "* **Artificial Intelligence (AI):** Google is a leader in AI research and development. It uses AI in many of its products, including search, voice assistants (like Google Assistant), and self-driving cars.\n",
      "* **Other Services:** Google offers a wide range of other services, such as YouTube (video sharing), Google Play (app store), and Google Fiber (internet service).\n",
      "\n",
      "**Overall, Google is a powerful and influential technology company that plays a significant role in our daily lives.**\n",
      "\n",
      "good bye take care \n"
     ]
    }
   ],
   "source": [
    "while True:\n",
    "    question=input(\"type the question else type quit to quit and exit\")\n",
    "    if question != \"exit\":\n",
    "        print(llm.invoke(question).content)\n",
    "    else:\n",
    "        print(\"good bye take care \")\n",
    "        break"
   ]
  },
  {
   "cell_type": "code",
   "execution_count": 17,
   "metadata": {},
   "outputs": [],
   "source": [
    "from langchain.agents import tool\n",
    "@tool\n",
    "def get_word_len(word:str):\n",
    "    \"\"\"Return the length of the word\"\"\"\n",
    "    return len(word)"
   ]
  },
  {
   "cell_type": "code",
   "execution_count": 18,
   "metadata": {},
   "outputs": [
    {
     "data": {
      "text/plain": [
       "5"
      ]
     },
     "execution_count": 18,
     "metadata": {},
     "output_type": "execute_result"
    }
   ],
   "source": [
    "get_word_len.invoke(\"pavan\")"
   ]
  },
  {
   "cell_type": "code",
   "execution_count": 22,
   "metadata": {},
   "outputs": [],
   "source": [
    "@tool\n",
    "def multiply(a:int, b:int):\n",
    "    \"\"\"Multiply two numbers \"\"\"\n",
    "    return a*b"
   ]
  },
  {
   "cell_type": "code",
   "execution_count": 21,
   "metadata": {},
   "outputs": [
    {
     "data": {
      "text/plain": [
       "40"
      ]
     },
     "execution_count": 23,
     "metadata": {},
     "output_type": "execute_result"
    }
   ],
   "source": [
    "multiply.invoke({\"a\":5, \"b\":8})"
   ]
  }
 ],
 "metadata": {
  "kernelspec": {
   "display_name": "myenv",
   "language": "python",
   "name": "python3"
  },
  "language_info": {
   "codemirror_mode": {
    "name": "ipython",
    "version": 3
   },
   "file_extension": ".py",
   "mimetype": "text/x-python",
   "name": "python",
   "nbconvert_exporter": "python",
   "pygments_lexer": "ipython3",
   "version": "3.10.12"
  }
 },
 "nbformat": 4,
 "nbformat_minor": 2
}
