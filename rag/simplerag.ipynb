{
 "cells": [
  {
   "cell_type": "code",
   "execution_count": 2,
   "metadata": {},
   "outputs": [
    {
     "data": {
      "text/plain": [
       "[Document(metadata={'source': 'speech.txt'}, page_content='It is truly an honor to stand before you today and talk about something that has shaped the greatest minds, the strongest leaders, and the most inspiring individuals throughout history—perseverance.\\n\\nLife is full of challenges. At some point, we all face setbacks, failures, and moments where we feel like giving up. But what separates those who succeed from those who don’t is not talent, not luck, but the ability to keep going even when things get tough.\\n\\nThink about some of the world’s most successful people. Thomas Edison failed over 1,000 times before he finally invented the lightbulb. J.K. Rowling was rejected by 12 publishers before Harry Potter became a global phenomenon. And Michael Jordan, one of the greatest basketball players of all time, was cut from his high school team before he became a legend.\\n\\nWhat do they all have in common? They refused to give up. They believed in their dreams and kept pushing forward, even when the world told them \"no.\"\\n\\nSo, my message to you today is simple: keep going. No matter how hard things get, no matter how many times you fail, remember that every step forward—no matter how small—brings you closer to your goals.')]"
      ]
     },
     "execution_count": 2,
     "metadata": {},
     "output_type": "execute_result"
    }
   ],
   "source": [
    "from langchain_community.document_loaders import TextLoader\n",
    "loader = TextLoader(\"speech.txt\")\n",
    "text_document = loader.load()\n",
    "text_document"
   ]
  },
  {
   "cell_type": "code",
   "execution_count": 3,
   "metadata": {},
   "outputs": [],
   "source": [
    "import os\n",
    "from dotenv import load_dotenv\n",
    "load_dotenv()\n",
    "\n",
    "os.environ['GEMINI_KEY']  = os.getenv('GEMINI_KEY')\n",
    "\n"
   ]
  },
  {
   "cell_type": "code",
   "execution_count": 8,
   "metadata": {},
   "outputs": [
    {
     "data": {
      "text/plain": [
       "[Document(metadata={'source': 'https://lilianweng.github.io/posts/2023-06-23-agent/'}, page_content='\\n      LLM Powered Autonomous Agents\\n    ')]"
      ]
     },
     "execution_count": 8,
     "metadata": {},
     "output_type": "execute_result"
    }
   ],
   "source": [
    "## web based loader\n",
    "from langchain_community.document_loaders import WebBaseLoader\n",
    "import bs4\n",
    "\n",
    "loader = WebBaseLoader(web_path=('https://lilianweng.github.io/posts/2023-06-23-agent/'),\n",
    "                       bs_kwargs=dict(parse_only=bs4.SoupStrainer(\n",
    "                           class_=('post-title', 'post_content','post-headers')\n",
    "                       )),)\n",
    "\n",
    "text_document = loader.load()\n",
    "text_document"
   ]
  },
  {
   "cell_type": "code",
   "execution_count": 9,
   "metadata": {},
   "outputs": [
    {
     "data": {
      "text/plain": [
       "[Document(metadata={'producer': 'Mac OS X 10.13.3 Quartz PDFContext', 'creator': 'Pages', 'creationdate': \"D:20180224150452Z00'00'\", 'title': 'Untitled.pages', 'moddate': \"D:20180224150452Z00'00'\", 'source': 'next-gen-js-summary.pdf', 'total_pages': 8, 'page': 0, 'page_label': '1'}, page_content='In this module, I\\xa0provided a brief introduction into some \\ncore next-gen JavaScript features, of course focusing on \\nthe ones you\\'ll see the most in this course. Here\\'s a quick \\nsummary!\\nlet &\\xa0const \\nRead more about\\xa0let\\xa0:\\xa0https://developer.mozilla.org/en-US/\\ndocs/Web/JavaScript/Reference/Statements/let\\nRead more about\\xa0const\\xa0:\\xa0https://developer.mozilla.org/en-\\nUS/docs/Web/JavaScript/Reference/Statements/const\\nlet\\xa0 and\\xa0const\\xa0 basically replace\\xa0var\\xa0. You use\\xa0let\\xa0 \\ninstead of\\xa0var\\xa0 and\\xa0const\\xa0 instead of\\xa0var\\xa0 if you plan on \\nnever re-assigning this \"variable\"\\xa0(eﬀectively turning it into a \\nconstant therefore).\\nES6 Arrow Functions \\nRead more:\\xa0https://developer.mozilla.org/en-US/docs/Web/\\nJavaScript/Reference/Functions/Arrow_functions\\nArrow functions are a diﬀerent way of creating functions in \\nJavaScript. Besides a shorter syntax, they oﬀer advantages \\nwhen it comes to keeping the scope of the\\xa0this\\xa0 keyword \\n(see\\xa0here).\\nArrow function syntax may look strange but it\\'s actually \\nsimple.\\n.f u n c t i o n callMe(name) { \\n.    c o n s o l e . l o g ( n a m e ) ;\\n.}'),\n",
       " Document(metadata={'producer': 'Mac OS X 10.13.3 Quartz PDFContext', 'creator': 'Pages', 'creationdate': \"D:20180224150452Z00'00'\", 'title': 'Untitled.pages', 'moddate': \"D:20180224150452Z00'00'\", 'source': 'next-gen-js-summary.pdf', 'total_pages': 8, 'page': 1, 'page_label': '2'}, page_content=\"which you could also write as:\\n.c o n s t callMe = function(name) { \\n.    c o n s o l e . l o g ( n a m e ) ;\\n.}\\nbecomes:\\xa0\\n.c o n s t callMe = (name) => { \\n.    c o n s o l e . l o g ( n a m e ) ;\\n.}\\nImportant:\\xa0\\nWhen having\\xa0no arguments, you have to use empty \\nparentheses in the function declaration:\\n.c o n s t callMe = () => { \\n.    c o n s o l e . l o g ('Max!');\\n.}\\nWhen having\\xa0exactly one argument, you may omit the \\nparentheses:\\n.c o n s t callMe = name => { \\n.    c o n s o l e . l o g ( n a m e ) ;\\n.}\\nWhen\\xa0just returning a value, you can use the following \\nshortcut:\\n.c o n s t returnMe = name => name\\nThat's equal to:\\n.c o n s t returnMe = name => { \\n.    return name;\\n.}\\nExports &\\xa0Imports \\nIn React projects (and actually in all modern JavaScript \\nprojects), you split your code across multiple JavaScript\"),\n",
       " Document(metadata={'producer': 'Mac OS X 10.13.3 Quartz PDFContext', 'creator': 'Pages', 'creationdate': \"D:20180224150452Z00'00'\", 'title': 'Untitled.pages', 'moddate': \"D:20180224150452Z00'00'\", 'source': 'next-gen-js-summary.pdf', 'total_pages': 8, 'page': 2, 'page_label': '3'}, page_content=\"ﬁles - so-called modules. You do this, to keep each ﬁle/ \\nmodule focused and manageable.\\nTo still access functionality in another ﬁle, you need\\xa0export\\xa0 \\n(to make it available) and\\xa0import\\xa0 (to get \\naccess)\\xa0statements.\\nYou got two diﬀerent types of \\nexports:\\xa0default\\xa0(unnamed)\\xa0and\\xa0namedexports:\\ndefault\\xa0=>\\xa0export default ...;\\xa0\\nnamed\\xa0=>\\xa0export const someData = ...;\\xa0\\nYou can import\\xa0default exports\\xa0like this:\\nimport someNameOfYourChoice from './path/to/\\nfile.js';\\xa0\\nSurprisingly,\\xa0someNameOfYourChoice\\xa0 is totally up to you.\\nNamed exports\\xa0have to be imported by their name:\\nimport { someData } from './path/to/file.js';\\xa0\\nA ﬁle can only contain one default and an unlimited amount \\nof named exports. You can also mix the one default with \\nany amount of named exports in one and the same ﬁle.\\nWhen importing\\xa0named exports, you can also import all \\nnamed exports at once with the following syntax:\\nimport * as upToYou from './path/to/file.js';\"),\n",
       " Document(metadata={'producer': 'Mac OS X 10.13.3 Quartz PDFContext', 'creator': 'Pages', 'creationdate': \"D:20180224150452Z00'00'\", 'title': 'Untitled.pages', 'moddate': \"D:20180224150452Z00'00'\", 'source': 'next-gen-js-summary.pdf', 'total_pages': 8, 'page': 3, 'page_label': '4'}, page_content='upToYou\\xa0 is - well - up to you and simply bundles all \\nexported variables/functions in one JavaScript object. For \\nexample, if you\\xa0export const someData = ...\\xa0 (/path/\\nto/file.js\\xa0)\\xa0you can access it on\\xa0upToYou\\xa0 like \\nthis:\\xa0upToYou.someData\\xa0.\\nClasses \\nClasses are a feature which basically replace constructor \\nfunctions and prototypes. You can deﬁne blueprints for \\nJavaScript objects with them.\\xa0\\nLike this:\\n.c l a s s Person {\\n.    c o n s t r u c t o r  ( )  {\\n.        this.name = \\'Max\\';\\n.    }\\n.}\\n.\\xa0\\n.c o n s t person = new Person();\\n.c o n s o l e . l o g ( p e r s o n . n a m e ) ;  // prints \\'Max\\'\\nIn the above example, not only the class but also a property \\nof that class (=>\\xa0name\\xa0)\\xa0is deﬁned. They syntax you see \\nthere, is the \"old\"\\xa0syntax for deﬁning properties. In modern \\nJavaScript projects (as the one used in this course), you \\ncan use the following, more convenient way of deﬁning \\nclass properties:\\n.c l a s s Person {\\n.    n a m e  =  \\'Max\\';\\n.}\\n.\\xa0\\n.c o n s t person = new Person();\\n.c o n s o l e . l o g ( p e r s o n . n a m e ) ;  // prints \\'Max\\'\\nYou can also deﬁne methods. Either like this:'),\n",
       " Document(metadata={'producer': 'Mac OS X 10.13.3 Quartz PDFContext', 'creator': 'Pages', 'creationdate': \"D:20180224150452Z00'00'\", 'title': 'Untitled.pages', 'moddate': \"D:20180224150452Z00'00'\", 'source': 'next-gen-js-summary.pdf', 'total_pages': 8, 'page': 4, 'page_label': '5'}, page_content=\".c l a s s Person {\\n.    n a m e  =  'Max';\\n.    p r i n t M y N a m e  ( )  {\\n.        c o n s o l e . l o g (this.name); // this is required to refer \\nto the class!\\n.    }\\n.}\\n.\\xa0\\n.c o n s t person = new Person();\\n.p e r s o n . p r i n t M y N a m e ( ) ;\\nOr like this:\\n.c l a s s Person {\\n.    n a m e  =  'Max';\\n.    p r i n t M y N a m e  =  ( )  = >  {\\n.        c o n s o l e . l o g (this.name);\\n.    }\\n.}\\n.\\xa0\\n.c o n s t person = new Person();\\n.p e r s o n . p r i n t M y N a m e ( ) ;\\nThe second approach has the same advantage as all arrow \\nfunctions have:\\xa0The\\xa0this\\xa0 keyword doesn't change its \\nreference.\\nYou can also use\\xa0inheritance\\xa0when using classes:\\u2028\\n.c l a s s Human {\\n.    s p e c i e s  =  'human';\\n.}\\n.\\xa0\\n.c l a s s Person extends Human {\\n.    n a m e  =  'Max';\\n.    p r i n t M y N a m e  =  ( )  = >  {\\n.        c o n s o l e . l o g (this.name);\\n.    }\\n.}\\n.\\xa0\\n.c o n s t person = new Person();\"),\n",
       " Document(metadata={'producer': 'Mac OS X 10.13.3 Quartz PDFContext', 'creator': 'Pages', 'creationdate': \"D:20180224150452Z00'00'\", 'title': 'Untitled.pages', 'moddate': \"D:20180224150452Z00'00'\", 'source': 'next-gen-js-summary.pdf', 'total_pages': 8, 'page': 5, 'page_label': '6'}, page_content=\".p e r s o n . p r i n t M y N a m e ( ) ;\\n.c o n s o l e . l o g ( p e r s o n . s p e c i e s ) ;  // prints 'human'\\nSpread &\\xa0Rest Operator \\nThe spread and rest operators actually use the same \\nsyntax:\\xa0...\\xa0\\nYes, that is the operator - just three dots. It's usage \\ndetermines whether you're using it as the spread or rest \\noperator.\\nUsing the Spread Operator:\\nThe spread operator allows you to pull elements out of an \\narray (=>\\xa0split the array into a list of its elements) or pull the \\nproperties out of an object. Here are two examples:\\n.c o n s t oldArray = [1, 2, 3];\\n.c o n s t newArray = [...oldArray, 4, 5]; // This now is [1, 2, \\n3, 4, 5];\\nHere's the spread operator used on an object:\\n.c o n s t oldObject = {\\n.    n a m e :  'Max'\\n.} ;\\n.c o n s t newObject = {\\n.    . . . o l d O b j e c t ,\\n.    a g e :  2 8\\n.} ;\\nnewObject\\xa0 would then be\\n.{\\n.    n a m e :  'Max',\\n.    a g e :  2 8\\n.}\\nThe spread operator is extremely useful for cloning arrays \\nand objects.\\xa0Since both are\\xa0reference types (and not\"),\n",
       " Document(metadata={'producer': 'Mac OS X 10.13.3 Quartz PDFContext', 'creator': 'Pages', 'creationdate': \"D:20180224150452Z00'00'\", 'title': 'Untitled.pages', 'moddate': \"D:20180224150452Z00'00'\", 'source': 'next-gen-js-summary.pdf', 'total_pages': 8, 'page': 6, 'page_label': '7'}, page_content=\"primitives), copying them safely (i.e. preventing future \\nmutation of the copied original)\\xa0can be tricky. With the \\nspread operator you have an easy way of creating a \\n(shallow!) clone of the object or array.\\xa0\\nDestructuring \\nDestructuring allows you to easily access the values of \\narrays or objects and assign them to variables.\\nHere's an example for an array:\\n.c o n s t array = [1, 2, 3];\\n.c o n s t [a, b] = array;\\n.c o n s o l e . l o g ( a ) ;  // prints 1\\n.c o n s o l e . l o g ( b ) ;  // prints 2\\n.c o n s o l e . l o g ( a r r a y ) ;  // prints [1, 2, 3]\\nAnd here for an object:\\n.c o n s t myObj = {\\n.    n a m e :  'Max',\\n.    a g e :  2 8\\n.}\\n.c o n s t {name} = myObj;\\n.c o n s o l e . l o g ( n a m e ) ;  // prints 'Max'\\n.c o n s o l e . l o g ( a g e ) ;  // prints undefined\\n.c o n s o l e . l o g ( m y O b j ) ;  // prints {name: 'Max', age: 28}\\nDestructuring is very useful when working with function \\narguments. Consider this example:\\n.c o n s t printName = (personObj) => {\\n.    c o n s o l e . l o g ( p e r s o n O b j . n a m e ) ;\\n.}\\n.p r i n t N a m e ( { n a m e :  'Max', age: 28}); // prints 'Max'\\nHere, we only want to print the name in the function but we \\npass a complete person object to the function. Of course \\nthis is no issue but it forces us to call personObj.name\"),\n",
       " Document(metadata={'producer': 'Mac OS X 10.13.3 Quartz PDFContext', 'creator': 'Pages', 'creationdate': \"D:20180224150452Z00'00'\", 'title': 'Untitled.pages', 'moddate': \"D:20180224150452Z00'00'\", 'source': 'next-gen-js-summary.pdf', 'total_pages': 8, 'page': 7, 'page_label': '8'}, page_content=\"inside of our function. We can condense this code with \\ndestructuring:\\n.c o n s t printName = ({name}) => {\\n.    c o n s o l e . l o g ( n a m e ) ;\\n.}\\n.p r i n t N a m e ( { n a m e :  'Max', age: 28}); // prints 'Max')\\nWe get the same result as above but we save some code. \\nBy destructuring, we simply pull out the\\xa0name\\xa0 property and \\nstore it in a variable/ argument named\\xa0name\\xa0 which we then \\ncan use in the function body.\")]"
      ]
     },
     "execution_count": 9,
     "metadata": {},
     "output_type": "execute_result"
    }
   ],
   "source": [
    "from langchain_community.document_loaders import PyPDFLoader\n",
    "loader = PyPDFLoader('next-gen-js-summary.pdf')\n",
    "text_document = loader.load()\n",
    "text_document\n"
   ]
  },
  {
   "cell_type": "code",
   "execution_count": 11,
   "metadata": {},
   "outputs": [
    {
     "data": {
      "text/plain": [
       "[Document(metadata={'producer': 'Mac OS X 10.13.3 Quartz PDFContext', 'creator': 'Pages', 'creationdate': \"D:20180224150452Z00'00'\", 'title': 'Untitled.pages', 'moddate': \"D:20180224150452Z00'00'\", 'source': 'next-gen-js-summary.pdf', 'total_pages': 8, 'page': 0, 'page_label': '1'}, page_content='In this module, I\\xa0provided a brief introduction into some \\ncore next-gen JavaScript features, of course focusing on \\nthe ones you\\'ll see the most in this course. Here\\'s a quick \\nsummary!\\nlet &\\xa0const \\nRead more about\\xa0let\\xa0:\\xa0https://developer.mozilla.org/en-US/\\ndocs/Web/JavaScript/Reference/Statements/let\\nRead more about\\xa0const\\xa0:\\xa0https://developer.mozilla.org/en-\\nUS/docs/Web/JavaScript/Reference/Statements/const\\nlet\\xa0 and\\xa0const\\xa0 basically replace\\xa0var\\xa0. You use\\xa0let\\xa0 \\ninstead of\\xa0var\\xa0 and\\xa0const\\xa0 instead of\\xa0var\\xa0 if you plan on \\nnever re-assigning this \"variable\"\\xa0(eﬀectively turning it into a \\nconstant therefore).\\nES6 Arrow Functions \\nRead more:\\xa0https://developer.mozilla.org/en-US/docs/Web/\\nJavaScript/Reference/Functions/Arrow_functions\\nArrow functions are a diﬀerent way of creating functions in \\nJavaScript. Besides a shorter syntax, they oﬀer advantages \\nwhen it comes to keeping the scope of the\\xa0this\\xa0 keyword \\n(see\\xa0here).\\nArrow function syntax may look strange but it\\'s actually \\nsimple.'),\n",
       " Document(metadata={'producer': 'Mac OS X 10.13.3 Quartz PDFContext', 'creator': 'Pages', 'creationdate': \"D:20180224150452Z00'00'\", 'title': 'Untitled.pages', 'moddate': \"D:20180224150452Z00'00'\", 'source': 'next-gen-js-summary.pdf', 'total_pages': 8, 'page': 0, 'page_label': '1'}, page_content=\"JavaScript. Besides a shorter syntax, they oﬀer advantages \\nwhen it comes to keeping the scope of the\\xa0this\\xa0 keyword \\n(see\\xa0here).\\nArrow function syntax may look strange but it's actually \\nsimple.\\n.f u n c t i o n callMe(name) { \\n.    c o n s o l e . l o g ( n a m e ) ;\\n.}\"),\n",
       " Document(metadata={'producer': 'Mac OS X 10.13.3 Quartz PDFContext', 'creator': 'Pages', 'creationdate': \"D:20180224150452Z00'00'\", 'title': 'Untitled.pages', 'moddate': \"D:20180224150452Z00'00'\", 'source': 'next-gen-js-summary.pdf', 'total_pages': 8, 'page': 1, 'page_label': '2'}, page_content=\"which you could also write as:\\n.c o n s t callMe = function(name) { \\n.    c o n s o l e . l o g ( n a m e ) ;\\n.}\\nbecomes:\\xa0\\n.c o n s t callMe = (name) => { \\n.    c o n s o l e . l o g ( n a m e ) ;\\n.}\\nImportant:\\xa0\\nWhen having\\xa0no arguments, you have to use empty \\nparentheses in the function declaration:\\n.c o n s t callMe = () => { \\n.    c o n s o l e . l o g ('Max!');\\n.}\\nWhen having\\xa0exactly one argument, you may omit the \\nparentheses:\\n.c o n s t callMe = name => { \\n.    c o n s o l e . l o g ( n a m e ) ;\\n.}\\nWhen\\xa0just returning a value, you can use the following \\nshortcut:\\n.c o n s t returnMe = name => name\\nThat's equal to:\\n.c o n s t returnMe = name => { \\n.    return name;\\n.}\\nExports &\\xa0Imports \\nIn React projects (and actually in all modern JavaScript \\nprojects), you split your code across multiple JavaScript\"),\n",
       " Document(metadata={'producer': 'Mac OS X 10.13.3 Quartz PDFContext', 'creator': 'Pages', 'creationdate': \"D:20180224150452Z00'00'\", 'title': 'Untitled.pages', 'moddate': \"D:20180224150452Z00'00'\", 'source': 'next-gen-js-summary.pdf', 'total_pages': 8, 'page': 2, 'page_label': '3'}, page_content=\"ﬁles - so-called modules. You do this, to keep each ﬁle/ \\nmodule focused and manageable.\\nTo still access functionality in another ﬁle, you need\\xa0export\\xa0 \\n(to make it available) and\\xa0import\\xa0 (to get \\naccess)\\xa0statements.\\nYou got two diﬀerent types of \\nexports:\\xa0default\\xa0(unnamed)\\xa0and\\xa0namedexports:\\ndefault\\xa0=>\\xa0export default ...;\\xa0\\nnamed\\xa0=>\\xa0export const someData = ...;\\xa0\\nYou can import\\xa0default exports\\xa0like this:\\nimport someNameOfYourChoice from './path/to/\\nfile.js';\\xa0\\nSurprisingly,\\xa0someNameOfYourChoice\\xa0 is totally up to you.\\nNamed exports\\xa0have to be imported by their name:\\nimport { someData } from './path/to/file.js';\\xa0\\nA ﬁle can only contain one default and an unlimited amount \\nof named exports. You can also mix the one default with \\nany amount of named exports in one and the same ﬁle.\\nWhen importing\\xa0named exports, you can also import all \\nnamed exports at once with the following syntax:\\nimport * as upToYou from './path/to/file.js';\"),\n",
       " Document(metadata={'producer': 'Mac OS X 10.13.3 Quartz PDFContext', 'creator': 'Pages', 'creationdate': \"D:20180224150452Z00'00'\", 'title': 'Untitled.pages', 'moddate': \"D:20180224150452Z00'00'\", 'source': 'next-gen-js-summary.pdf', 'total_pages': 8, 'page': 3, 'page_label': '4'}, page_content='upToYou\\xa0 is - well - up to you and simply bundles all \\nexported variables/functions in one JavaScript object. For \\nexample, if you\\xa0export const someData = ...\\xa0 (/path/\\nto/file.js\\xa0)\\xa0you can access it on\\xa0upToYou\\xa0 like \\nthis:\\xa0upToYou.someData\\xa0.\\nClasses \\nClasses are a feature which basically replace constructor \\nfunctions and prototypes. You can deﬁne blueprints for \\nJavaScript objects with them.\\xa0\\nLike this:\\n.c l a s s Person {\\n.    c o n s t r u c t o r  ( )  {\\n.        this.name = \\'Max\\';\\n.    }\\n.}\\n.\\xa0\\n.c o n s t person = new Person();\\n.c o n s o l e . l o g ( p e r s o n . n a m e ) ;  // prints \\'Max\\'\\nIn the above example, not only the class but also a property \\nof that class (=>\\xa0name\\xa0)\\xa0is deﬁned. They syntax you see \\nthere, is the \"old\"\\xa0syntax for deﬁning properties. In modern \\nJavaScript projects (as the one used in this course), you \\ncan use the following, more convenient way of deﬁning \\nclass properties:\\n.c l a s s Person {\\n.    n a m e  =  \\'Max\\';\\n.}\\n.')]"
      ]
     },
     "execution_count": 11,
     "metadata": {},
     "output_type": "execute_result"
    }
   ],
   "source": [
    "from langchain.text_splitter import RecursiveCharacterTextSplitter\n",
    "text_splitter =RecursiveCharacterTextSplitter(chunk_size=1000, chunk_overlap=200)\n",
    "documents= text_splitter.split_documents(text_document)\n",
    "documents[:5]"
   ]
  },
  {
   "cell_type": "code",
   "execution_count": 14,
   "metadata": {},
   "outputs": [],
   "source": [
    "from langchain_google_genai import GoogleGenerativeAIEmbeddings\n",
    "from langchain_community.vectorstores import Chroma\n",
    "embedding_function = GoogleGenerativeAIEmbeddings(\n",
    "    model=\"models/embedding-001\",  # Correct embedding model\n",
    "    google_api_key=os.getenv('GEMINI_KEY')\n",
    ")\n",
    "db = Chroma.from_documents(documents[:15], embedding_function)"
   ]
  },
  {
   "cell_type": "code",
   "execution_count": 18,
   "metadata": {},
   "outputs": [
    {
     "data": {
      "text/plain": [
       "'In this module, I\\xa0provided a brief introduction into some \\ncore next-gen JavaScript features, of course focusing on \\nthe ones you\\'ll see the most in this course. Here\\'s a quick \\nsummary!\\nlet &\\xa0const \\nRead more about\\xa0let\\xa0:\\xa0https://developer.mozilla.org/en-US/\\ndocs/Web/JavaScript/Reference/Statements/let\\nRead more about\\xa0const\\xa0:\\xa0https://developer.mozilla.org/en-\\nUS/docs/Web/JavaScript/Reference/Statements/const\\nlet\\xa0 and\\xa0const\\xa0 basically replace\\xa0var\\xa0. You use\\xa0let\\xa0 \\ninstead of\\xa0var\\xa0 and\\xa0const\\xa0 instead of\\xa0var\\xa0 if you plan on \\nnever re-assigning this \"variable\"\\xa0(eﬀectively turning it into a \\nconstant therefore).\\nES6 Arrow Functions \\nRead more:\\xa0https://developer.mozilla.org/en-US/docs/Web/\\nJavaScript/Reference/Functions/Arrow_functions\\nArrow functions are a diﬀerent way of creating functions in \\nJavaScript. Besides a shorter syntax, they oﬀer advantages \\nwhen it comes to keeping the scope of the\\xa0this\\xa0 keyword \\n(see\\xa0here).\\nArrow function syntax may look strange but it\\'s actually \\nsimple.'"
      ]
     },
     "execution_count": 18,
     "metadata": {},
     "output_type": "execute_result"
    }
   ],
   "source": [
    "##vector databases \n",
    "\n",
    "query='what is ES6 Arrow Functions '\n",
    "result = db.similarity_search(query)\n",
    "result[0].page_content"
   ]
  },
  {
   "cell_type": "code",
   "execution_count": 19,
   "metadata": {},
   "outputs": [
    {
     "data": {
      "text/plain": [
       "\"JavaScript. Besides a shorter syntax, they oﬀer advantages \\nwhen it comes to keeping the scope of the\\xa0this\\xa0 keyword \\n(see\\xa0here).\\nArrow function syntax may look strange but it's actually \\nsimple.\\n.f u n c t i o n callMe(name) { \\n.    c o n s o l e . l o g ( n a m e ) ;\\n.}\""
      ]
     },
     "execution_count": 19,
     "metadata": {},
     "output_type": "execute_result"
    }
   ],
   "source": [
    "from langchain_community.vectorstores import FAISS\n",
    "db = FAISS.from_documents(documents[:15], embedding_function)\n",
    "query = \"what is an arrow function\"\n",
    "result = db.similarity_search(query)\n",
    "result[0].page_content"
   ]
  },
  {
   "cell_type": "code",
   "execution_count": 21,
   "metadata": {},
   "outputs": [
    {
     "data": {
      "text/plain": [
       "OllamaLLM(model='gemma')"
      ]
     },
     "execution_count": 21,
     "metadata": {},
     "output_type": "execute_result"
    }
   ],
   "source": [
    "from langchain_ollama import OllamaLLM\n",
    "\n",
    "llm = OllamaLLM(model='gemma')\n",
    "llm\n"
   ]
  },
  {
   "cell_type": "code",
   "execution_count": 22,
   "metadata": {},
   "outputs": [],
   "source": [
    "from langchain_core.prompts import ChatPromptTemplate\n",
    "prompt = ChatPromptTemplate.from_template(\"\"\"\n",
    "Answer the following question based on only on the privoided context.\n",
    "Think step by step before providing the answer.\n",
    "<context>\n",
    "{context}\n",
    "</context>\n",
    "Question: {input}                                          \n",
    "\"\"\"\n",
    ")"
   ]
  },
  {
   "cell_type": "code",
   "execution_count": 28,
   "metadata": {},
   "outputs": [],
   "source": [
    "from langchain.chains.combine_documents import create_stuff_documents_chain\n",
    "document = create_stuff_documents_chain(llm, prompt)"
   ]
  },
  {
   "cell_type": "code",
   "execution_count": 26,
   "metadata": {},
   "outputs": [
    {
     "data": {
      "text/plain": [
       "VectorStoreRetriever(tags=['FAISS', 'GoogleGenerativeAIEmbeddings'], vectorstore=<langchain_community.vectorstores.faiss.FAISS object at 0x74a9e97a96c0>, search_kwargs={})"
      ]
     },
     "execution_count": 26,
     "metadata": {},
     "output_type": "execute_result"
    }
   ],
   "source": [
    "retriever  =  db.as_retriever()\n",
    "retriever"
   ]
  },
  {
   "cell_type": "code",
   "execution_count": 29,
   "metadata": {},
   "outputs": [],
   "source": [
    "from langchain.chains import create_retrieval_chain\n",
    "retriever_chain = create_retrieval_chain(retriever, document)\n"
   ]
  },
  {
   "cell_type": "code",
   "execution_count": 33,
   "metadata": {},
   "outputs": [],
   "source": [
    "resposne = retriever_chain.invoke({'input':\"ES6 Arrow Functions\"})\n"
   ]
  },
  {
   "cell_type": "code",
   "execution_count": 35,
   "metadata": {},
   "outputs": [
    {
     "data": {
      "text/plain": [
       "'The provided text discusses ES6 Arrow Functions and their advantages in keeping the scope of the `this` keyword. \\n\\n**Key points:**\\n\\n- Arrow functions are a different way of creating functions in JavaScript.\\n- They offer advantages when it comes to maintaining the scope of the `this` keyword.\\n- Arrow function syntax is simple despite its seemingly strange appearance.\\n\\n**Therefore, the answer to the question is:** ES6 Arrow Functions provide a way to define functions where the `this` keyword retains its original scope, making them suitable for situations where the context of `this` is important.'"
      ]
     },
     "execution_count": 35,
     "metadata": {},
     "output_type": "execute_result"
    }
   ],
   "source": [
    "resposne['answer']"
   ]
  }
 ],
 "metadata": {
  "kernelspec": {
   "display_name": "myenv",
   "language": "python",
   "name": "python3"
  },
  "language_info": {
   "codemirror_mode": {
    "name": "ipython",
    "version": 3
   },
   "file_extension": ".py",
   "mimetype": "text/x-python",
   "name": "python",
   "nbconvert_exporter": "python",
   "pygments_lexer": "ipython3",
   "version": "3.10.12"
  }
 },
 "nbformat": 4,
 "nbformat_minor": 2
}
